{
 "cells": [
  {
   "cell_type": "markdown",
   "metadata": {
    "collapsed": true,
    "pycharm": {
     "is_executing": false
    }
   },
   "source": [
    "<h1 align=center><font size = 5>Segmenting and Clustering Neighborhoods in Toronto</font></h1>"
   ]
  },
  {
   "cell_type": "markdown",
   "metadata": {},
   "source": [
    "## Introduction\n",
    "\n",
    "### Problem background:\n",
    "Banhmi, a World Famous Vietnamese Cuisine Phenomenon!\n",
    "“That’s a symphony in a sandwich” is how Anthony Bourdain described the most famous Vietnamese sandwich called the Bánh Mì.\n",
    "In 2011, along with Pho, Banh My (bread) was added to Oxford Dictionary as a representative of Vietnamese cuisine.\n",
    "For people who didnt know about Banhmi, it is is the Vietnamese word for bread.\n",
    "In Vietnamese cuisine, it also refers to a type of baguette which is often split lengthwise and filled with various savory ingredients as a sandwich and served as a meal. A typical Vietnamese sandwich is a fusion of meats and vegetables from native Vietnamese cuisine such as chả lụa (pork sausage), coriander leaf (cilantro), cucumber, pickled carrots, and pickled daikon combined with condiments from French cuisine such as pâté, along with chili and mayonnaise.\n",
    "\n",
    "### Problem description:\n",
    "Banhmi Phuong is one of the most famous brand in Vietnam. Now, the brand has a plan to expand its business in Toronto. The first job is finding the most suitable place for its.\n",
    "\n",
    "### Data Description\n",
    "\n",
    "The data used in this project is provided by Foursquare location data. The data are grouped by landscape area, and each area included the information about this area and all information about restaurants, cafes, and stores which in this area.\n",
    "\n"
   ]
  },
  {
   "cell_type": "markdown",
   "metadata": {},
   "source": [
    "## Table of Contents\n",
    "\n",
    "<div class=\"alert alert-block alert-info\" style=\"margin-top: 20px\">\n",
    "\n",
    "<font size = 3>\n",
    "\n",
    "1. <a href=\"#item1\">Download and Explore Dataset</a>\n",
    "\n",
    "2. <a href=\"#item2\">Explore Neighborhoods in Toronto</a>\n",
    "\n",
    "3. <a href=\"#item3\">Analyze Each Neighborhood</a>\n",
    "\n",
    "4. <a href=\"#item4\">Cluster Neighborhoods</a>\n",
    "\n",
    "5. <a href=\"#item5\">Examine Clusters</a>    \n",
    "</font>\n",
    "</div>"
   ]
  },
  {
   "cell_type": "markdown",
   "metadata": {},
   "source": [
    "Firstly, import all libs"
   ]
  },
  {
   "cell_type": "code",
   "execution_count": 2,
   "metadata": {
    "pycharm": {
     "is_executing": false,
     "name": "#%%\n"
    }
   },
   "outputs": [
    {
     "ename": "ModuleNotFoundError",
     "evalue": "No module named 'geopy'",
     "output_type": "error",
     "traceback": [
      "\u001b[1;31m---------------------------------------------------------------------------\u001b[0m",
      "\u001b[1;31mModuleNotFoundError\u001b[0m                       Traceback (most recent call last)",
      "\u001b[1;32m<ipython-input-2-768c7b076856>\u001b[0m in \u001b[0;36m<module>\u001b[1;34m()\u001b[0m\n\u001b[0;32m      5\u001b[0m \u001b[1;32mimport\u001b[0m \u001b[0mjson\u001b[0m\u001b[1;33m\u001b[0m\u001b[0m\n\u001b[0;32m      6\u001b[0m \u001b[1;32mimport\u001b[0m \u001b[0mfolium\u001b[0m\u001b[1;33m\u001b[0m\u001b[0m\n\u001b[1;32m----> 7\u001b[1;33m \u001b[1;32mfrom\u001b[0m \u001b[0mgeopy\u001b[0m\u001b[1;33m.\u001b[0m\u001b[0mgeocoders\u001b[0m \u001b[1;32mimport\u001b[0m \u001b[0mNominatim\u001b[0m\u001b[1;33m\u001b[0m\u001b[0m\n\u001b[0m\u001b[0;32m      8\u001b[0m \u001b[1;32mimport\u001b[0m \u001b[0mmatplotlib\u001b[0m\u001b[1;33m.\u001b[0m\u001b[0mcm\u001b[0m \u001b[1;32mas\u001b[0m \u001b[0mcm\u001b[0m\u001b[1;33m\u001b[0m\u001b[0m\n\u001b[0;32m      9\u001b[0m \u001b[1;32mimport\u001b[0m \u001b[0mmatplotlib\u001b[0m\u001b[1;33m.\u001b[0m\u001b[0mcolors\u001b[0m \u001b[1;32mas\u001b[0m \u001b[0mcolors\u001b[0m\u001b[1;33m\u001b[0m\u001b[0m\n",
      "\u001b[1;31mModuleNotFoundError\u001b[0m: No module named 'geopy'"
     ]
    }
   ],
   "source": [
    "import numpy as np\n",
    "import pandas as pd\n",
    "pd.set_option('display.max_columns', None)\n",
    "pd.set_option('display.max_rows', None)\n",
    "import json\n",
    "import folium\n",
    "from geopy.geocoders import Nominatim\n",
    "import matplotlib.cm as cm\n",
    "import matplotlib.colors as colors\n",
    "from sklearn.cluster import KMeans\n",
    "print('Libraries imported.')"
   ]
  },
  {
   "cell_type": "markdown",
   "metadata": {},
   "source": [
    "## 1. Download and Explore Dataset"
   ]
  },
  {
   "cell_type": "markdown",
   "metadata": {},
   "source": [
    "Create dataframe with lat, lon \n"
   ]
  },
  {
   "cell_type": "code",
   "execution_count": 29,
   "metadata": {
    "pycharm": {
     "is_executing": false,
     "name": "#%%\n"
    }
   },
   "outputs": [
    {
     "data": {
      "text/html": [
       "<div>\n",
       "<style scoped>\n",
       "    .dataframe tbody tr th:only-of-type {\n",
       "        vertical-align: middle;\n",
       "    }\n",
       "\n",
       "    .dataframe tbody tr th {\n",
       "        vertical-align: top;\n",
       "    }\n",
       "\n",
       "    .dataframe thead th {\n",
       "        text-align: right;\n",
       "    }\n",
       "</style>\n",
       "<table border=\"1\" class=\"dataframe\">\n",
       "  <thead>\n",
       "    <tr style=\"text-align: right;\">\n",
       "      <th></th>\n",
       "      <th>Postcode</th>\n",
       "      <th>Latitude</th>\n",
       "      <th>Longitude</th>\n",
       "    </tr>\n",
       "  </thead>\n",
       "  <tbody>\n",
       "    <tr>\n",
       "      <th>0</th>\n",
       "      <td>M1B</td>\n",
       "      <td>43.806686</td>\n",
       "      <td>-79.194353</td>\n",
       "    </tr>\n",
       "    <tr>\n",
       "      <th>1</th>\n",
       "      <td>M1C</td>\n",
       "      <td>43.784535</td>\n",
       "      <td>-79.160497</td>\n",
       "    </tr>\n",
       "    <tr>\n",
       "      <th>2</th>\n",
       "      <td>M1E</td>\n",
       "      <td>43.763573</td>\n",
       "      <td>-79.188711</td>\n",
       "    </tr>\n",
       "    <tr>\n",
       "      <th>3</th>\n",
       "      <td>M1G</td>\n",
       "      <td>43.770992</td>\n",
       "      <td>-79.216917</td>\n",
       "    </tr>\n",
       "    <tr>\n",
       "      <th>4</th>\n",
       "      <td>M1H</td>\n",
       "      <td>43.773136</td>\n",
       "      <td>-79.239476</td>\n",
       "    </tr>\n",
       "  </tbody>\n",
       "</table>\n",
       "</div>"
      ],
      "text/plain": [
       "  Postcode   Latitude  Longitude\n",
       "0      M1B  43.806686 -79.194353\n",
       "1      M1C  43.784535 -79.160497\n",
       "2      M1E  43.763573 -79.188711\n",
       "3      M1G  43.770992 -79.216917\n",
       "4      M1H  43.773136 -79.239476"
      ]
     },
     "execution_count": 29,
     "metadata": {},
     "output_type": "execute_result"
    }
   ],
   "source": [
    "df_lat_lon = pd.read_csv(r'config/Geospatial_Coordinates.csv')\n",
    "df_lat_lon.rename(columns={'Postal Code': 'Postcode'}, inplace=True)\n",
    "df_lat_lon.head()"
   ]
  },
  {
   "cell_type": "markdown",
   "metadata": {},
   "source": [
    "### Merge two data frame"
   ]
  },
  {
   "cell_type": "code",
   "execution_count": 30,
   "metadata": {
    "pycharm": {
     "is_executing": false,
     "name": "#%%\n"
    }
   },
   "outputs": [
    {
     "data": {
      "text/html": [
       "<div>\n",
       "<style scoped>\n",
       "    .dataframe tbody tr th:only-of-type {\n",
       "        vertical-align: middle;\n",
       "    }\n",
       "\n",
       "    .dataframe tbody tr th {\n",
       "        vertical-align: top;\n",
       "    }\n",
       "\n",
       "    .dataframe thead th {\n",
       "        text-align: right;\n",
       "    }\n",
       "</style>\n",
       "<table border=\"1\" class=\"dataframe\">\n",
       "  <thead>\n",
       "    <tr style=\"text-align: right;\">\n",
       "      <th></th>\n",
       "      <th>Postcode</th>\n",
       "      <th>Borough</th>\n",
       "      <th>Neighborhood</th>\n",
       "      <th>Latitude</th>\n",
       "      <th>Longitude</th>\n",
       "    </tr>\n",
       "  </thead>\n",
       "  <tbody>\n",
       "    <tr>\n",
       "      <th>0</th>\n",
       "      <td>M3A</td>\n",
       "      <td>North York</td>\n",
       "      <td>Parkwoods</td>\n",
       "      <td>43.753259</td>\n",
       "      <td>-79.329656</td>\n",
       "    </tr>\n",
       "    <tr>\n",
       "      <th>1</th>\n",
       "      <td>M4A</td>\n",
       "      <td>North York</td>\n",
       "      <td>Victoria Village</td>\n",
       "      <td>43.725882</td>\n",
       "      <td>-79.315572</td>\n",
       "    </tr>\n",
       "    <tr>\n",
       "      <th>2</th>\n",
       "      <td>M5A</td>\n",
       "      <td>Downtown Toronto</td>\n",
       "      <td>Harbourfront,Regent Park</td>\n",
       "      <td>43.654260</td>\n",
       "      <td>-79.360636</td>\n",
       "    </tr>\n",
       "    <tr>\n",
       "      <th>3</th>\n",
       "      <td>M6A</td>\n",
       "      <td>North York</td>\n",
       "      <td>Lawrence Heights,Lawrence Manor</td>\n",
       "      <td>43.718518</td>\n",
       "      <td>-79.464763</td>\n",
       "    </tr>\n",
       "    <tr>\n",
       "      <th>4</th>\n",
       "      <td>M7A</td>\n",
       "      <td>Queen's Park</td>\n",
       "      <td>Queen's Park</td>\n",
       "      <td>43.662301</td>\n",
       "      <td>-79.389494</td>\n",
       "    </tr>\n",
       "  </tbody>\n",
       "</table>\n",
       "</div>"
      ],
      "text/plain": [
       "  Postcode           Borough                     Neighborhood   Latitude  \\\n",
       "0      M3A        North York                        Parkwoods  43.753259   \n",
       "1      M4A        North York                 Victoria Village  43.725882   \n",
       "2      M5A  Downtown Toronto         Harbourfront,Regent Park  43.654260   \n",
       "3      M6A        North York  Lawrence Heights,Lawrence Manor  43.718518   \n",
       "4      M7A      Queen's Park                     Queen's Park  43.662301   \n",
       "\n",
       "   Longitude  \n",
       "0 -79.329656  \n",
       "1 -79.315572  \n",
       "2 -79.360636  \n",
       "3 -79.464763  \n",
       "4 -79.389494  "
      ]
     },
     "execution_count": 30,
     "metadata": {},
     "output_type": "execute_result"
    }
   ],
   "source": [
    "df_toronto = pd.read_csv(r'data/toronto.csv')\n",
    "# df_toronto.head()\n",
    "df = pd.merge(df_toronto, df_lat_lon, on='Postcode')\n",
    "df.drop(['Unnamed: 0'], axis = 1, inplace=True)\n",
    "df.head()"
   ]
  },
  {
   "cell_type": "markdown",
   "metadata": {},
   "source": [
    "Create new dataframe for only boroughs that contain the word 'Toronto'"
   ]
  },
  {
   "cell_type": "code",
   "execution_count": 31,
   "metadata": {
    "pycharm": {
     "is_executing": false,
     "name": "#%%\n"
    }
   },
   "outputs": [
    {
     "data": {
      "text/html": [
       "<div>\n",
       "<style scoped>\n",
       "    .dataframe tbody tr th:only-of-type {\n",
       "        vertical-align: middle;\n",
       "    }\n",
       "\n",
       "    .dataframe tbody tr th {\n",
       "        vertical-align: top;\n",
       "    }\n",
       "\n",
       "    .dataframe thead th {\n",
       "        text-align: right;\n",
       "    }\n",
       "</style>\n",
       "<table border=\"1\" class=\"dataframe\">\n",
       "  <thead>\n",
       "    <tr style=\"text-align: right;\">\n",
       "      <th></th>\n",
       "      <th>Postcode</th>\n",
       "      <th>Borough</th>\n",
       "      <th>Neighborhood</th>\n",
       "      <th>Latitude</th>\n",
       "      <th>Longitude</th>\n",
       "    </tr>\n",
       "  </thead>\n",
       "  <tbody>\n",
       "    <tr>\n",
       "      <th>2</th>\n",
       "      <td>M5A</td>\n",
       "      <td>Downtown Toronto</td>\n",
       "      <td>Harbourfront,Regent Park</td>\n",
       "      <td>43.654260</td>\n",
       "      <td>-79.360636</td>\n",
       "    </tr>\n",
       "    <tr>\n",
       "      <th>9</th>\n",
       "      <td>M5B</td>\n",
       "      <td>Downtown Toronto</td>\n",
       "      <td>Ryerson,Garden District</td>\n",
       "      <td>43.657162</td>\n",
       "      <td>-79.378937</td>\n",
       "    </tr>\n",
       "    <tr>\n",
       "      <th>15</th>\n",
       "      <td>M5C</td>\n",
       "      <td>Downtown Toronto</td>\n",
       "      <td>St. James Town</td>\n",
       "      <td>43.651494</td>\n",
       "      <td>-79.375418</td>\n",
       "    </tr>\n",
       "    <tr>\n",
       "      <th>19</th>\n",
       "      <td>M4E</td>\n",
       "      <td>East Toronto</td>\n",
       "      <td>The Beaches</td>\n",
       "      <td>43.676357</td>\n",
       "      <td>-79.293031</td>\n",
       "    </tr>\n",
       "    <tr>\n",
       "      <th>20</th>\n",
       "      <td>M5E</td>\n",
       "      <td>Downtown Toronto</td>\n",
       "      <td>Berczy Park</td>\n",
       "      <td>43.644771</td>\n",
       "      <td>-79.373306</td>\n",
       "    </tr>\n",
       "  </tbody>\n",
       "</table>\n",
       "</div>"
      ],
      "text/plain": [
       "   Postcode           Borough              Neighborhood   Latitude  Longitude\n",
       "2       M5A  Downtown Toronto  Harbourfront,Regent Park  43.654260 -79.360636\n",
       "9       M5B  Downtown Toronto   Ryerson,Garden District  43.657162 -79.378937\n",
       "15      M5C  Downtown Toronto            St. James Town  43.651494 -79.375418\n",
       "19      M4E      East Toronto               The Beaches  43.676357 -79.293031\n",
       "20      M5E  Downtown Toronto               Berczy Park  43.644771 -79.373306"
      ]
     },
     "execution_count": 31,
     "metadata": {},
     "output_type": "execute_result"
    }
   ],
   "source": [
    "df2 = df[df['Borough'].str.contains('Toronto')] \n",
    "df2.head()"
   ]
  },
  {
   "cell_type": "markdown",
   "metadata": {},
   "source": [
    "\n",
    "## 2. Explore Neighborhoods in Toronto\n",
    "\n",
    "### Create map to visualize neighborhoods\n"
   ]
  },
  {
   "cell_type": "code",
   "execution_count": 32,
   "metadata": {
    "pycharm": {
     "is_executing": false,
     "name": "#%%\n"
    }
   },
   "outputs": [
    {
     "data": {
      "text/html": [
       "<div style=\"width:100%;\"><div style=\"position:relative;width:100%;height:0;padding-bottom:60%;\"><iframe src=\"data:text/html;charset=utf-8;base64,PCFET0NUWVBFIGh0bWw+CjxoZWFkPiAgICAKICAgIDxtZXRhIGh0dHAtZXF1aXY9ImNvbnRlbnQtdHlwZSIgY29udGVudD0idGV4dC9odG1sOyBjaGFyc2V0PVVURi04IiAvPgogICAgCiAgICAgICAgPHNjcmlwdD4KICAgICAgICAgICAgTF9OT19UT1VDSCA9IGZhbHNlOwogICAgICAgICAgICBMX0RJU0FCTEVfM0QgPSBmYWxzZTsKICAgICAgICA8L3NjcmlwdD4KICAgIAogICAgPHNjcmlwdCBzcmM9Imh0dHBzOi8vY2RuLmpzZGVsaXZyLm5ldC9ucG0vbGVhZmxldEAxLjUuMS9kaXN0L2xlYWZsZXQuanMiPjwvc2NyaXB0PgogICAgPHNjcmlwdCBzcmM9Imh0dHBzOi8vY29kZS5qcXVlcnkuY29tL2pxdWVyeS0xLjEyLjQubWluLmpzIj48L3NjcmlwdD4KICAgIDxzY3JpcHQgc3JjPSJodHRwczovL21heGNkbi5ib290c3RyYXBjZG4uY29tL2Jvb3RzdHJhcC8zLjIuMC9qcy9ib290c3RyYXAubWluLmpzIj48L3NjcmlwdD4KICAgIDxzY3JpcHQgc3JjPSJodHRwczovL2NkbmpzLmNsb3VkZmxhcmUuY29tL2FqYXgvbGlicy9MZWFmbGV0LmF3ZXNvbWUtbWFya2Vycy8yLjAuMi9sZWFmbGV0LmF3ZXNvbWUtbWFya2Vycy5qcyI+PC9zY3JpcHQ+CiAgICA8bGluayByZWw9InN0eWxlc2hlZXQiIGhyZWY9Imh0dHBzOi8vY2RuLmpzZGVsaXZyLm5ldC9ucG0vbGVhZmxldEAxLjUuMS9kaXN0L2xlYWZsZXQuY3NzIi8+CiAgICA8bGluayByZWw9InN0eWxlc2hlZXQiIGhyZWY9Imh0dHBzOi8vbWF4Y2RuLmJvb3RzdHJhcGNkbi5jb20vYm9vdHN0cmFwLzMuMi4wL2Nzcy9ib290c3RyYXAubWluLmNzcyIvPgogICAgPGxpbmsgcmVsPSJzdHlsZXNoZWV0IiBocmVmPSJodHRwczovL21heGNkbi5ib290c3RyYXBjZG4uY29tL2Jvb3RzdHJhcC8zLjIuMC9jc3MvYm9vdHN0cmFwLXRoZW1lLm1pbi5jc3MiLz4KICAgIDxsaW5rIHJlbD0ic3R5bGVzaGVldCIgaHJlZj0iaHR0cHM6Ly9tYXhjZG4uYm9vdHN0cmFwY2RuLmNvbS9mb250LWF3ZXNvbWUvNC42LjMvY3NzL2ZvbnQtYXdlc29tZS5taW4uY3NzIi8+CiAgICA8bGluayByZWw9InN0eWxlc2hlZXQiIGhyZWY9Imh0dHBzOi8vY2RuanMuY2xvdWRmbGFyZS5jb20vYWpheC9saWJzL0xlYWZsZXQuYXdlc29tZS1tYXJrZXJzLzIuMC4yL2xlYWZsZXQuYXdlc29tZS1tYXJrZXJzLmNzcyIvPgogICAgPGxpbmsgcmVsPSJzdHlsZXNoZWV0IiBocmVmPSJodHRwczovL3Jhd2Nkbi5naXRoYWNrLmNvbS9weXRob24tdmlzdWFsaXphdGlvbi9mb2xpdW0vbWFzdGVyL2ZvbGl1bS90ZW1wbGF0ZXMvbGVhZmxldC5hd2Vzb21lLnJvdGF0ZS5jc3MiLz4KICAgIDxzdHlsZT5odG1sLCBib2R5IHt3aWR0aDogMTAwJTtoZWlnaHQ6IDEwMCU7bWFyZ2luOiAwO3BhZGRpbmc6IDA7fTwvc3R5bGU+CiAgICA8c3R5bGU+I21hcCB7cG9zaXRpb246YWJzb2x1dGU7dG9wOjA7Ym90dG9tOjA7cmlnaHQ6MDtsZWZ0OjA7fTwvc3R5bGU+CiAgICAKICAgICAgICAgICAgPG1ldGEgbmFtZT0idmlld3BvcnQiIGNvbnRlbnQ9IndpZHRoPWRldmljZS13aWR0aCwKICAgICAgICAgICAgICAgIGluaXRpYWwtc2NhbGU9MS4wLCBtYXhpbXVtLXNjYWxlPTEuMCwgdXNlci1zY2FsYWJsZT1ubyIgLz4KICAgICAgICAgICAgPHN0eWxlPgogICAgICAgICAgICAgICAgI21hcF8xNjMzMWMzOTllYWY0OWNmYjg2NjcxYTZlZTVmOWE4MyB7CiAgICAgICAgICAgICAgICAgICAgcG9zaXRpb246IHJlbGF0aXZlOwogICAgICAgICAgICAgICAgICAgIHdpZHRoOiAxMDAuMCU7CiAgICAgICAgICAgICAgICAgICAgaGVpZ2h0OiAxMDAuMCU7CiAgICAgICAgICAgICAgICAgICAgbGVmdDogMC4wJTsKICAgICAgICAgICAgICAgICAgICB0b3A6IDAuMCU7CiAgICAgICAgICAgICAgICB9CiAgICAgICAgICAgIDwvc3R5bGU+CiAgICAgICAgCjwvaGVhZD4KPGJvZHk+ICAgIAogICAgCiAgICAgICAgICAgIDxkaXYgY2xhc3M9ImZvbGl1bS1tYXAiIGlkPSJtYXBfMTYzMzFjMzk5ZWFmNDljZmI4NjY3MWE2ZWU1ZjlhODMiID48L2Rpdj4KICAgICAgICAKPC9ib2R5Pgo8c2NyaXB0PiAgICAKICAgIAogICAgICAgICAgICB2YXIgbWFwXzE2MzMxYzM5OWVhZjQ5Y2ZiODY2NzFhNmVlNWY5YTgzID0gTC5tYXAoCiAgICAgICAgICAgICAgICAibWFwXzE2MzMxYzM5OWVhZjQ5Y2ZiODY2NzFhNmVlNWY5YTgzIiwKICAgICAgICAgICAgICAgIHsKICAgICAgICAgICAgICAgICAgICBjZW50ZXI6IFs0My42NTM5NjMsIC03OS4zODcyMDddLAogICAgICAgICAgICAgICAgICAgIGNyczogTC5DUlMuRVBTRzM4NTcsCiAgICAgICAgICAgICAgICAgICAgem9vbTogMTAsCiAgICAgICAgICAgICAgICAgICAgem9vbUNvbnRyb2w6IHRydWUsCiAgICAgICAgICAgICAgICAgICAgcHJlZmVyQ2FudmFzOiBmYWxzZSwKICAgICAgICAgICAgICAgIH0KICAgICAgICAgICAgKTsKCiAgICAgICAgICAgIAoKICAgICAgICAKICAgIAogICAgICAgICAgICB2YXIgdGlsZV9sYXllcl9kYjRlYmExMzQyMjc0MjVlYmYzMDgxMzEzNWY4YWEzMiA9IEwudGlsZUxheWVyKAogICAgICAgICAgICAgICAgImh0dHBzOi8ve3N9LnRpbGUub3BlbnN0cmVldG1hcC5vcmcve3p9L3t4fS97eX0ucG5nIiwKICAgICAgICAgICAgICAgIHsiYXR0cmlidXRpb24iOiAiRGF0YSBieSBcdTAwMjZjb3B5OyBcdTAwM2NhIGhyZWY9XCJodHRwOi8vb3BlbnN0cmVldG1hcC5vcmdcIlx1MDAzZU9wZW5TdHJlZXRNYXBcdTAwM2MvYVx1MDAzZSwgdW5kZXIgXHUwMDNjYSBocmVmPVwiaHR0cDovL3d3dy5vcGVuc3RyZWV0bWFwLm9yZy9jb3B5cmlnaHRcIlx1MDAzZU9EYkxcdTAwM2MvYVx1MDAzZS4iLCAiZGV0ZWN0UmV0aW5hIjogZmFsc2UsICJtYXhOYXRpdmVab29tIjogMTgsICJtYXhab29tIjogMTgsICJtaW5ab29tIjogMCwgIm5vV3JhcCI6IGZhbHNlLCAib3BhY2l0eSI6IDEsICJzdWJkb21haW5zIjogImFiYyIsICJ0bXMiOiBmYWxzZX0KICAgICAgICAgICAgKS5hZGRUbyhtYXBfMTYzMzFjMzk5ZWFmNDljZmI4NjY3MWE2ZWU1ZjlhODMpOwogICAgICAgIAogICAgCiAgICAgICAgICAgIHZhciBjaXJjbGVfbWFya2VyXzliYzkwZjY3Yjg5ZjQzMTBiNjQxNTYzMzk1ZTM5OTcwID0gTC5jaXJjbGVNYXJrZXIoCiAgICAgICAgICAgICAgICBbNDMuNjU0MjU5OSwgLTc5LjM2MDYzNTldLAogICAgICAgICAgICAgICAgeyJidWJibGluZ01vdXNlRXZlbnRzIjogdHJ1ZSwgImNvbG9yIjogImJsdWUiLCAiZGFzaEFycmF5IjogbnVsbCwgImRhc2hPZmZzZXQiOiBudWxsLCAiZmlsbCI6IHRydWUsICJmaWxsQ29sb3IiOiAiIzMxODZjYyIsICJmaWxsT3BhY2l0eSI6IDAuNywgImZpbGxSdWxlIjogImV2ZW5vZGQiLCAibGluZUNhcCI6ICJyb3VuZCIsICJsaW5lSm9pbiI6ICJyb3VuZCIsICJvcGFjaXR5IjogMS4wLCAicmFkaXVzIjogNSwgInN0cm9rZSI6IHRydWUsICJ3ZWlnaHQiOiAzfQogICAgICAgICAgICApLmFkZFRvKG1hcF8xNjMzMWMzOTllYWY0OWNmYjg2NjcxYTZlZTVmOWE4Myk7CiAgICAgICAgCiAgICAKICAgICAgICB2YXIgcG9wdXBfZTQ4ZDhmZjEzMmRkNDFhMzkyNDdkNDZiM2Y3N2ViZjUgPSBMLnBvcHVwKHsibWF4V2lkdGgiOiAiMTAwJSJ9KTsKCiAgICAgICAgCiAgICAgICAgICAgIHZhciBodG1sXzFhMWUyZmNhNDc4MDRjYjdiODk4MzNlMjA5NTdmZTcwID0gJChgPGRpdiBpZD0iaHRtbF8xYTFlMmZjYTQ3ODA0Y2I3Yjg5ODMzZTIwOTU3ZmU3MCIgc3R5bGU9IndpZHRoOiAxMDAuMCU7IGhlaWdodDogMTAwLjAlOyI+SGFyYm91cmZyb250LFJlZ2VudCBQYXJrLCBEb3dudG93biBUb3JvbnRvPC9kaXY+YClbMF07CiAgICAgICAgICAgIHBvcHVwX2U0OGQ4ZmYxMzJkZDQxYTM5MjQ3ZDQ2YjNmNzdlYmY1LnNldENvbnRlbnQoaHRtbF8xYTFlMmZjYTQ3ODA0Y2I3Yjg5ODMzZTIwOTU3ZmU3MCk7CiAgICAgICAgCgogICAgICAgIGNpcmNsZV9tYXJrZXJfOWJjOTBmNjdiODlmNDMxMGI2NDE1NjMzOTVlMzk5NzAuYmluZFBvcHVwKHBvcHVwX2U0OGQ4ZmYxMzJkZDQxYTM5MjQ3ZDQ2YjNmNzdlYmY1KQogICAgICAgIDsKCiAgICAgICAgCiAgICAKICAgIAogICAgICAgICAgICB2YXIgY2lyY2xlX21hcmtlcl9iOWZhNTAwYmYzYWE0ZDVhOTMyZDg3ODAzMGEyZTE3YiA9IEwuY2lyY2xlTWFya2VyKAogICAgICAgICAgICAgICAgWzQzLjY1NzE2MTgsIC03OS4zNzg5MzcwOTk5OTk5OV0sCiAgICAgICAgICAgICAgICB7ImJ1YmJsaW5nTW91c2VFdmVudHMiOiB0cnVlLCAiY29sb3IiOiAiYmx1ZSIsICJkYXNoQXJyYXkiOiBudWxsLCAiZGFzaE9mZnNldCI6IG51bGwsICJmaWxsIjogdHJ1ZSwgImZpbGxDb2xvciI6ICIjMzE4NmNjIiwgImZpbGxPcGFjaXR5IjogMC43LCAiZmlsbFJ1bGUiOiAiZXZlbm9kZCIsICJsaW5lQ2FwIjogInJvdW5kIiwgImxpbmVKb2luIjogInJvdW5kIiwgIm9wYWNpdHkiOiAxLjAsICJyYWRpdXMiOiA1LCAic3Ryb2tlIjogdHJ1ZSwgIndlaWdodCI6IDN9CiAgICAgICAgICAgICkuYWRkVG8obWFwXzE2MzMxYzM5OWVhZjQ5Y2ZiODY2NzFhNmVlNWY5YTgzKTsKICAgICAgICAKICAgIAogICAgICAgIHZhciBwb3B1cF82ZjU3YjA3YTA4NGM0ZWJmOTc3ZGFlZGUxOGYyZDJlYSA9IEwucG9wdXAoeyJtYXhXaWR0aCI6ICIxMDAlIn0pOwoKICAgICAgICAKICAgICAgICAgICAgdmFyIGh0bWxfZjg1YWFiNmM5MDJlNDUyODkxYmVkNzZjMWNjZjE2YmIgPSAkKGA8ZGl2IGlkPSJodG1sX2Y4NWFhYjZjOTAyZTQ1Mjg5MWJlZDc2YzFjY2YxNmJiIiBzdHlsZT0id2lkdGg6IDEwMC4wJTsgaGVpZ2h0OiAxMDAuMCU7Ij5SeWVyc29uLEdhcmRlbiBEaXN0cmljdCwgRG93bnRvd24gVG9yb250bzwvZGl2PmApWzBdOwogICAgICAgICAgICBwb3B1cF82ZjU3YjA3YTA4NGM0ZWJmOTc3ZGFlZGUxOGYyZDJlYS5zZXRDb250ZW50KGh0bWxfZjg1YWFiNmM5MDJlNDUyODkxYmVkNzZjMWNjZjE2YmIpOwogICAgICAgIAoKICAgICAgICBjaXJjbGVfbWFya2VyX2I5ZmE1MDBiZjNhYTRkNWE5MzJkODc4MDMwYTJlMTdiLmJpbmRQb3B1cChwb3B1cF82ZjU3YjA3YTA4NGM0ZWJmOTc3ZGFlZGUxOGYyZDJlYSkKICAgICAgICA7CgogICAgICAgIAogICAgCiAgICAKICAgICAgICAgICAgdmFyIGNpcmNsZV9tYXJrZXJfY2VmNjVkNTA3YjY3NGIzMDg0NjM5YWIwMzBkYzQwMmQgPSBMLmNpcmNsZU1hcmtlcigKICAgICAgICAgICAgICAgIFs0My42NTE0OTM5LCAtNzkuMzc1NDE3OV0sCiAgICAgICAgICAgICAgICB7ImJ1YmJsaW5nTW91c2VFdmVudHMiOiB0cnVlLCAiY29sb3IiOiAiYmx1ZSIsICJkYXNoQXJyYXkiOiBudWxsLCAiZGFzaE9mZnNldCI6IG51bGwsICJmaWxsIjogdHJ1ZSwgImZpbGxDb2xvciI6ICIjMzE4NmNjIiwgImZpbGxPcGFjaXR5IjogMC43LCAiZmlsbFJ1bGUiOiAiZXZlbm9kZCIsICJsaW5lQ2FwIjogInJvdW5kIiwgImxpbmVKb2luIjogInJvdW5kIiwgIm9wYWNpdHkiOiAxLjAsICJyYWRpdXMiOiA1LCAic3Ryb2tlIjogdHJ1ZSwgIndlaWdodCI6IDN9CiAgICAgICAgICAgICkuYWRkVG8obWFwXzE2MzMxYzM5OWVhZjQ5Y2ZiODY2NzFhNmVlNWY5YTgzKTsKICAgICAgICAKICAgIAogICAgICAgIHZhciBwb3B1cF85ZWFlZWVmOTgzYmM0OTg1YmU1NzQxMmU4OTc0NTg2YSA9IEwucG9wdXAoeyJtYXhXaWR0aCI6ICIxMDAlIn0pOwoKICAgICAgICAKICAgICAgICAgICAgdmFyIGh0bWxfYjI5NTY1ZDc5NzA2NDI3ZjljZWIwZjQ4MmMzMzA2NDkgPSAkKGA8ZGl2IGlkPSJodG1sX2IyOTU2NWQ3OTcwNjQyN2Y5Y2ViMGY0ODJjMzMwNjQ5IiBzdHlsZT0id2lkdGg6IDEwMC4wJTsgaGVpZ2h0OiAxMDAuMCU7Ij5TdC4gSmFtZXMgVG93biwgRG93bnRvd24gVG9yb250bzwvZGl2PmApWzBdOwogICAgICAgICAgICBwb3B1cF85ZWFlZWVmOTgzYmM0OTg1YmU1NzQxMmU4OTc0NTg2YS5zZXRDb250ZW50KGh0bWxfYjI5NTY1ZDc5NzA2NDI3ZjljZWIwZjQ4MmMzMzA2NDkpOwogICAgICAgIAoKICAgICAgICBjaXJjbGVfbWFya2VyX2NlZjY1ZDUwN2I2NzRiMzA4NDYzOWFiMDMwZGM0MDJkLmJpbmRQb3B1cChwb3B1cF85ZWFlZWVmOTgzYmM0OTg1YmU1NzQxMmU4OTc0NTg2YSkKICAgICAgICA7CgogICAgICAgIAogICAgCiAgICAKICAgICAgICAgICAgdmFyIGNpcmNsZV9tYXJrZXJfY2NmZTFjNmM3MjdlNDc1NzkwNGIxNGVlZTg1NmQ1ZmUgPSBMLmNpcmNsZU1hcmtlcigKICAgICAgICAgICAgICAgIFs0My42NzYzNTczOTk5OTk5OSwgLTc5LjI5MzAzMTJdLAogICAgICAgICAgICAgICAgeyJidWJibGluZ01vdXNlRXZlbnRzIjogdHJ1ZSwgImNvbG9yIjogImJsdWUiLCAiZGFzaEFycmF5IjogbnVsbCwgImRhc2hPZmZzZXQiOiBudWxsLCAiZmlsbCI6IHRydWUsICJmaWxsQ29sb3IiOiAiIzMxODZjYyIsICJmaWxsT3BhY2l0eSI6IDAuNywgImZpbGxSdWxlIjogImV2ZW5vZGQiLCAibGluZUNhcCI6ICJyb3VuZCIsICJsaW5lSm9pbiI6ICJyb3VuZCIsICJvcGFjaXR5IjogMS4wLCAicmFkaXVzIjogNSwgInN0cm9rZSI6IHRydWUsICJ3ZWlnaHQiOiAzfQogICAgICAgICAgICApLmFkZFRvKG1hcF8xNjMzMWMzOTllYWY0OWNmYjg2NjcxYTZlZTVmOWE4Myk7CiAgICAgICAgCiAgICAKICAgICAgICB2YXIgcG9wdXBfMDUzMWFiZmE0YWNlNDY2NDg5NDhmOGY4ODhkYzZmMmEgPSBMLnBvcHVwKHsibWF4V2lkdGgiOiAiMTAwJSJ9KTsKCiAgICAgICAgCiAgICAgICAgICAgIHZhciBodG1sXzUwYjFmZWYzZmViZDRmZWViNTdjNzJmMzkwNmNjMGYzID0gJChgPGRpdiBpZD0iaHRtbF81MGIxZmVmM2ZlYmQ0ZmVlYjU3YzcyZjM5MDZjYzBmMyIgc3R5bGU9IndpZHRoOiAxMDAuMCU7IGhlaWdodDogMTAwLjAlOyI+VGhlIEJlYWNoZXMsIEVhc3QgVG9yb250bzwvZGl2PmApWzBdOwogICAgICAgICAgICBwb3B1cF8wNTMxYWJmYTRhY2U0NjY0ODk0OGY4Zjg4OGRjNmYyYS5zZXRDb250ZW50KGh0bWxfNTBiMWZlZjNmZWJkNGZlZWI1N2M3MmYzOTA2Y2MwZjMpOwogICAgICAgIAoKICAgICAgICBjaXJjbGVfbWFya2VyX2NjZmUxYzZjNzI3ZTQ3NTc5MDRiMTRlZWU4NTZkNWZlLmJpbmRQb3B1cChwb3B1cF8wNTMxYWJmYTRhY2U0NjY0ODk0OGY4Zjg4OGRjNmYyYSkKICAgICAgICA7CgogICAgICAgIAogICAgCiAgICAKICAgICAgICAgICAgdmFyIGNpcmNsZV9tYXJrZXJfNTg5YjJlZmM5NTY0NGJiOGE0N2UyMjVhM2MwOGFmOGQgPSBMLmNpcmNsZU1hcmtlcigKICAgICAgICAgICAgICAgIFs0My42NDQ3NzA3OTk5OTk5OTYsIC03OS4zNzMzMDY0XSwKICAgICAgICAgICAgICAgIHsiYnViYmxpbmdNb3VzZUV2ZW50cyI6IHRydWUsICJjb2xvciI6ICJibHVlIiwgImRhc2hBcnJheSI6IG51bGwsICJkYXNoT2Zmc2V0IjogbnVsbCwgImZpbGwiOiB0cnVlLCAiZmlsbENvbG9yIjogIiMzMTg2Y2MiLCAiZmlsbE9wYWNpdHkiOiAwLjcsICJmaWxsUnVsZSI6ICJldmVub2RkIiwgImxpbmVDYXAiOiAicm91bmQiLCAibGluZUpvaW4iOiAicm91bmQiLCAib3BhY2l0eSI6IDEuMCwgInJhZGl1cyI6IDUsICJzdHJva2UiOiB0cnVlLCAid2VpZ2h0IjogM30KICAgICAgICAgICAgKS5hZGRUbyhtYXBfMTYzMzFjMzk5ZWFmNDljZmI4NjY3MWE2ZWU1ZjlhODMpOwogICAgICAgIAogICAgCiAgICAgICAgdmFyIHBvcHVwXzBmNTI5MzI5MTg3MTRlZjBiNGMyNjZkNDlkOWY1ODc1ID0gTC5wb3B1cCh7Im1heFdpZHRoIjogIjEwMCUifSk7CgogICAgICAgIAogICAgICAgICAgICB2YXIgaHRtbF80YjNmZTU3MGM0MTk0Y2JiOThmNzYxZDAzOWU2NTNkYyA9ICQoYDxkaXYgaWQ9Imh0bWxfNGIzZmU1NzBjNDE5NGNiYjk4Zjc2MWQwMzllNjUzZGMiIHN0eWxlPSJ3aWR0aDogMTAwLjAlOyBoZWlnaHQ6IDEwMC4wJTsiPkJlcmN6eSBQYXJrLCBEb3dudG93biBUb3JvbnRvPC9kaXY+YClbMF07CiAgICAgICAgICAgIHBvcHVwXzBmNTI5MzI5MTg3MTRlZjBiNGMyNjZkNDlkOWY1ODc1LnNldENvbnRlbnQoaHRtbF80YjNmZTU3MGM0MTk0Y2JiOThmNzYxZDAzOWU2NTNkYyk7CiAgICAgICAgCgogICAgICAgIGNpcmNsZV9tYXJrZXJfNTg5YjJlZmM5NTY0NGJiOGE0N2UyMjVhM2MwOGFmOGQuYmluZFBvcHVwKHBvcHVwXzBmNTI5MzI5MTg3MTRlZjBiNGMyNjZkNDlkOWY1ODc1KQogICAgICAgIDsKCiAgICAgICAgCiAgICAKICAgIAogICAgICAgICAgICB2YXIgY2lyY2xlX21hcmtlcl9lMWY3NTJjZWQ2N2I0ODI3YWQ4MzZmMDRlN2MxZjlmNyA9IEwuY2lyY2xlTWFya2VyKAogICAgICAgICAgICAgICAgWzQzLjY1Nzk1MjQsIC03OS4zODczODI2XSwKICAgICAgICAgICAgICAgIHsiYnViYmxpbmdNb3VzZUV2ZW50cyI6IHRydWUsICJjb2xvciI6ICJibHVlIiwgImRhc2hBcnJheSI6IG51bGwsICJkYXNoT2Zmc2V0IjogbnVsbCwgImZpbGwiOiB0cnVlLCAiZmlsbENvbG9yIjogIiMzMTg2Y2MiLCAiZmlsbE9wYWNpdHkiOiAwLjcsICJmaWxsUnVsZSI6ICJldmVub2RkIiwgImxpbmVDYXAiOiAicm91bmQiLCAibGluZUpvaW4iOiAicm91bmQiLCAib3BhY2l0eSI6IDEuMCwgInJhZGl1cyI6IDUsICJzdHJva2UiOiB0cnVlLCAid2VpZ2h0IjogM30KICAgICAgICAgICAgKS5hZGRUbyhtYXBfMTYzMzFjMzk5ZWFmNDljZmI4NjY3MWE2ZWU1ZjlhODMpOwogICAgICAgIAogICAgCiAgICAgICAgdmFyIHBvcHVwX2IzZjUyNjQwY2Q3OTQyOWNiOTM0ZGYxNmJkNTQyOTVmID0gTC5wb3B1cCh7Im1heFdpZHRoIjogIjEwMCUifSk7CgogICAgICAgIAogICAgICAgICAgICB2YXIgaHRtbF9iN2ZjOWJkOTZhZmM0YjIzYWFjMTU4ODQ5OWZiZWZmNiA9ICQoYDxkaXYgaWQ9Imh0bWxfYjdmYzliZDk2YWZjNGIyM2FhYzE1ODg0OTlmYmVmZjYiIHN0eWxlPSJ3aWR0aDogMTAwLjAlOyBoZWlnaHQ6IDEwMC4wJTsiPkNlbnRyYWwgQmF5IFN0cmVldCwgRG93bnRvd24gVG9yb250bzwvZGl2PmApWzBdOwogICAgICAgICAgICBwb3B1cF9iM2Y1MjY0MGNkNzk0MjljYjkzNGRmMTZiZDU0Mjk1Zi5zZXRDb250ZW50KGh0bWxfYjdmYzliZDk2YWZjNGIyM2FhYzE1ODg0OTlmYmVmZjYpOwogICAgICAgIAoKICAgICAgICBjaXJjbGVfbWFya2VyX2UxZjc1MmNlZDY3YjQ4MjdhZDgzNmYwNGU3YzFmOWY3LmJpbmRQb3B1cChwb3B1cF9iM2Y1MjY0MGNkNzk0MjljYjkzNGRmMTZiZDU0Mjk1ZikKICAgICAgICA7CgogICAgICAgIAogICAgCiAgICAKICAgICAgICAgICAgdmFyIGNpcmNsZV9tYXJrZXJfYTY4MzM5YmYxYTdjNGZkMGJkM2VlOTEwNTA5ZTEzM2MgPSBMLmNpcmNsZU1hcmtlcigKICAgICAgICAgICAgICAgIFs0My42Njk1NDIsIC03OS40MjI1NjM3XSwKICAgICAgICAgICAgICAgIHsiYnViYmxpbmdNb3VzZUV2ZW50cyI6IHRydWUsICJjb2xvciI6ICJibHVlIiwgImRhc2hBcnJheSI6IG51bGwsICJkYXNoT2Zmc2V0IjogbnVsbCwgImZpbGwiOiB0cnVlLCAiZmlsbENvbG9yIjogIiMzMTg2Y2MiLCAiZmlsbE9wYWNpdHkiOiAwLjcsICJmaWxsUnVsZSI6ICJldmVub2RkIiwgImxpbmVDYXAiOiAicm91bmQiLCAibGluZUpvaW4iOiAicm91bmQiLCAib3BhY2l0eSI6IDEuMCwgInJhZGl1cyI6IDUsICJzdHJva2UiOiB0cnVlLCAid2VpZ2h0IjogM30KICAgICAgICAgICAgKS5hZGRUbyhtYXBfMTYzMzFjMzk5ZWFmNDljZmI4NjY3MWE2ZWU1ZjlhODMpOwogICAgICAgIAogICAgCiAgICAgICAgdmFyIHBvcHVwXzEwYzQwM2RmNzcwMzRiNjhhMDIzYTk0NDFkYzA0ZDQ3ID0gTC5wb3B1cCh7Im1heFdpZHRoIjogIjEwMCUifSk7CgogICAgICAgIAogICAgICAgICAgICB2YXIgaHRtbF84NWZlNzFmY2JjYjg0MTE3YWFmNmM5N2I5MDk3M2M2MiA9ICQoYDxkaXYgaWQ9Imh0bWxfODVmZTcxZmNiY2I4NDExN2FhZjZjOTdiOTA5NzNjNjIiIHN0eWxlPSJ3aWR0aDogMTAwLjAlOyBoZWlnaHQ6IDEwMC4wJTsiPkNocmlzdGllLCBEb3dudG93biBUb3JvbnRvPC9kaXY+YClbMF07CiAgICAgICAgICAgIHBvcHVwXzEwYzQwM2RmNzcwMzRiNjhhMDIzYTk0NDFkYzA0ZDQ3LnNldENvbnRlbnQoaHRtbF84NWZlNzFmY2JjYjg0MTE3YWFmNmM5N2I5MDk3M2M2Mik7CiAgICAgICAgCgogICAgICAgIGNpcmNsZV9tYXJrZXJfYTY4MzM5YmYxYTdjNGZkMGJkM2VlOTEwNTA5ZTEzM2MuYmluZFBvcHVwKHBvcHVwXzEwYzQwM2RmNzcwMzRiNjhhMDIzYTk0NDFkYzA0ZDQ3KQogICAgICAgIDsKCiAgICAgICAgCiAgICAKICAgIAogICAgICAgICAgICB2YXIgY2lyY2xlX21hcmtlcl8zMTk5OTVlYjQxZTg0OWJkOTkzZjQ3OGUxMmZkMmQ5MiA9IEwuY2lyY2xlTWFya2VyKAogICAgICAgICAgICAgICAgWzQzLjY1MDU3MTIwMDAwMDAxLCAtNzkuMzg0NTY3NV0sCiAgICAgICAgICAgICAgICB7ImJ1YmJsaW5nTW91c2VFdmVudHMiOiB0cnVlLCAiY29sb3IiOiAiYmx1ZSIsICJkYXNoQXJyYXkiOiBudWxsLCAiZGFzaE9mZnNldCI6IG51bGwsICJmaWxsIjogdHJ1ZSwgImZpbGxDb2xvciI6ICIjMzE4NmNjIiwgImZpbGxPcGFjaXR5IjogMC43LCAiZmlsbFJ1bGUiOiAiZXZlbm9kZCIsICJsaW5lQ2FwIjogInJvdW5kIiwgImxpbmVKb2luIjogInJvdW5kIiwgIm9wYWNpdHkiOiAxLjAsICJyYWRpdXMiOiA1LCAic3Ryb2tlIjogdHJ1ZSwgIndlaWdodCI6IDN9CiAgICAgICAgICAgICkuYWRkVG8obWFwXzE2MzMxYzM5OWVhZjQ5Y2ZiODY2NzFhNmVlNWY5YTgzKTsKICAgICAgICAKICAgIAogICAgICAgIHZhciBwb3B1cF9jNGQ3MGU3NzliOGE0ZTBmOTU0N2Y4ZDdhMmRkMGM2NSA9IEwucG9wdXAoeyJtYXhXaWR0aCI6ICIxMDAlIn0pOwoKICAgICAgICAKICAgICAgICAgICAgdmFyIGh0bWxfMDgxMjRhMGE1OGExNDdiZWIwNTcxZDk2MTIxMzMwMjcgPSAkKGA8ZGl2IGlkPSJodG1sXzA4MTI0YTBhNThhMTQ3YmViMDU3MWQ5NjEyMTMzMDI3IiBzdHlsZT0id2lkdGg6IDEwMC4wJTsgaGVpZ2h0OiAxMDAuMCU7Ij5BZGVsYWlkZSxLaW5nLFJpY2htb25kLCBEb3dudG93biBUb3JvbnRvPC9kaXY+YClbMF07CiAgICAgICAgICAgIHBvcHVwX2M0ZDcwZTc3OWI4YTRlMGY5NTQ3ZjhkN2EyZGQwYzY1LnNldENvbnRlbnQoaHRtbF8wODEyNGEwYTU4YTE0N2JlYjA1NzFkOTYxMjEzMzAyNyk7CiAgICAgICAgCgogICAgICAgIGNpcmNsZV9tYXJrZXJfMzE5OTk1ZWI0MWU4NDliZDk5M2Y0NzhlMTJmZDJkOTIuYmluZFBvcHVwKHBvcHVwX2M0ZDcwZTc3OWI4YTRlMGY5NTQ3ZjhkN2EyZGQwYzY1KQogICAgICAgIDsKCiAgICAgICAgCiAgICAKICAgIAogICAgICAgICAgICB2YXIgY2lyY2xlX21hcmtlcl83ZmQ0ZjU3NWU5NWQ0YjhjYWZlY2I5YmJlZjNkM2FlNiA9IEwuY2lyY2xlTWFya2VyKAogICAgICAgICAgICAgICAgWzQzLjY2OTAwNTEwMDAwMDAxLCAtNzkuNDQyMjU5M10sCiAgICAgICAgICAgICAgICB7ImJ1YmJsaW5nTW91c2VFdmVudHMiOiB0cnVlLCAiY29sb3IiOiAiYmx1ZSIsICJkYXNoQXJyYXkiOiBudWxsLCAiZGFzaE9mZnNldCI6IG51bGwsICJmaWxsIjogdHJ1ZSwgImZpbGxDb2xvciI6ICIjMzE4NmNjIiwgImZpbGxPcGFjaXR5IjogMC43LCAiZmlsbFJ1bGUiOiAiZXZlbm9kZCIsICJsaW5lQ2FwIjogInJvdW5kIiwgImxpbmVKb2luIjogInJvdW5kIiwgIm9wYWNpdHkiOiAxLjAsICJyYWRpdXMiOiA1LCAic3Ryb2tlIjogdHJ1ZSwgIndlaWdodCI6IDN9CiAgICAgICAgICAgICkuYWRkVG8obWFwXzE2MzMxYzM5OWVhZjQ5Y2ZiODY2NzFhNmVlNWY5YTgzKTsKICAgICAgICAKICAgIAogICAgICAgIHZhciBwb3B1cF8yMmQ5ZGY1ZmFkNGM0YTc0YjMxODNhMjc1NThhNzgxYSA9IEwucG9wdXAoeyJtYXhXaWR0aCI6ICIxMDAlIn0pOwoKICAgICAgICAKICAgICAgICAgICAgdmFyIGh0bWxfMGYwYWJlYTY3YzAzNDI3MjlkODA4NWM1MGEyYjE5NGMgPSAkKGA8ZGl2IGlkPSJodG1sXzBmMGFiZWE2N2MwMzQyNzI5ZDgwODVjNTBhMmIxOTRjIiBzdHlsZT0id2lkdGg6IDEwMC4wJTsgaGVpZ2h0OiAxMDAuMCU7Ij5Eb3ZlcmNvdXJ0IFZpbGxhZ2UsRHVmZmVyaW4sIFdlc3QgVG9yb250bzwvZGl2PmApWzBdOwogICAgICAgICAgICBwb3B1cF8yMmQ5ZGY1ZmFkNGM0YTc0YjMxODNhMjc1NThhNzgxYS5zZXRDb250ZW50KGh0bWxfMGYwYWJlYTY3YzAzNDI3MjlkODA4NWM1MGEyYjE5NGMpOwogICAgICAgIAoKICAgICAgICBjaXJjbGVfbWFya2VyXzdmZDRmNTc1ZTk1ZDRiOGNhZmVjYjliYmVmM2QzYWU2LmJpbmRQb3B1cChwb3B1cF8yMmQ5ZGY1ZmFkNGM0YTc0YjMxODNhMjc1NThhNzgxYSkKICAgICAgICA7CgogICAgICAgIAogICAgCiAgICAKICAgICAgICAgICAgdmFyIGNpcmNsZV9tYXJrZXJfOTkwNzcwNTRiNDUwNDJhMjhlMzk0MjdkOTEyMGZhZTEgPSBMLmNpcmNsZU1hcmtlcigKICAgICAgICAgICAgICAgIFs0My42NDA4MTU3LCAtNzkuMzgxNzUyMjk5OTk5OTldLAogICAgICAgICAgICAgICAgeyJidWJibGluZ01vdXNlRXZlbnRzIjogdHJ1ZSwgImNvbG9yIjogImJsdWUiLCAiZGFzaEFycmF5IjogbnVsbCwgImRhc2hPZmZzZXQiOiBudWxsLCAiZmlsbCI6IHRydWUsICJmaWxsQ29sb3IiOiAiIzMxODZjYyIsICJmaWxsT3BhY2l0eSI6IDAuNywgImZpbGxSdWxlIjogImV2ZW5vZGQiLCAibGluZUNhcCI6ICJyb3VuZCIsICJsaW5lSm9pbiI6ICJyb3VuZCIsICJvcGFjaXR5IjogMS4wLCAicmFkaXVzIjogNSwgInN0cm9rZSI6IHRydWUsICJ3ZWlnaHQiOiAzfQogICAgICAgICAgICApLmFkZFRvKG1hcF8xNjMzMWMzOTllYWY0OWNmYjg2NjcxYTZlZTVmOWE4Myk7CiAgICAgICAgCiAgICAKICAgICAgICB2YXIgcG9wdXBfOTYyZWM1Y2U3YTllNDNiMjg4MjYwNjY4YTU5ZDY2OTEgPSBMLnBvcHVwKHsibWF4V2lkdGgiOiAiMTAwJSJ9KTsKCiAgICAgICAgCiAgICAgICAgICAgIHZhciBodG1sXzBjZGU5NDc0NzgzYTRhMWE4M2YzNDY4ODQ5NGE2ZTU3ID0gJChgPGRpdiBpZD0iaHRtbF8wY2RlOTQ3NDc4M2E0YTFhODNmMzQ2ODg0OTRhNmU1NyIgc3R5bGU9IndpZHRoOiAxMDAuMCU7IGhlaWdodDogMTAwLjAlOyI+SGFyYm91cmZyb250IEVhc3QsVG9yb250byBJc2xhbmRzLFVuaW9uIFN0YXRpb24sIERvd250b3duIFRvcm9udG88L2Rpdj5gKVswXTsKICAgICAgICAgICAgcG9wdXBfOTYyZWM1Y2U3YTllNDNiMjg4MjYwNjY4YTU5ZDY2OTEuc2V0Q29udGVudChodG1sXzBjZGU5NDc0NzgzYTRhMWE4M2YzNDY4ODQ5NGE2ZTU3KTsKICAgICAgICAKCiAgICAgICAgY2lyY2xlX21hcmtlcl85OTA3NzA1NGI0NTA0MmEyOGUzOTQyN2Q5MTIwZmFlMS5iaW5kUG9wdXAocG9wdXBfOTYyZWM1Y2U3YTllNDNiMjg4MjYwNjY4YTU5ZDY2OTEpCiAgICAgICAgOwoKICAgICAgICAKICAgIAogICAgCiAgICAgICAgICAgIHZhciBjaXJjbGVfbWFya2VyX2YzNjZlODU2MTgzYjQzZTA5NzczMGE5NjI5NWM4ZTc1ID0gTC5jaXJjbGVNYXJrZXIoCiAgICAgICAgICAgICAgICBbNDMuNjQ3OTI2NzAwMDAwMDA2LCAtNzkuNDE5NzQ5N10sCiAgICAgICAgICAgICAgICB7ImJ1YmJsaW5nTW91c2VFdmVudHMiOiB0cnVlLCAiY29sb3IiOiAiYmx1ZSIsICJkYXNoQXJyYXkiOiBudWxsLCAiZGFzaE9mZnNldCI6IG51bGwsICJmaWxsIjogdHJ1ZSwgImZpbGxDb2xvciI6ICIjMzE4NmNjIiwgImZpbGxPcGFjaXR5IjogMC43LCAiZmlsbFJ1bGUiOiAiZXZlbm9kZCIsICJsaW5lQ2FwIjogInJvdW5kIiwgImxpbmVKb2luIjogInJvdW5kIiwgIm9wYWNpdHkiOiAxLjAsICJyYWRpdXMiOiA1LCAic3Ryb2tlIjogdHJ1ZSwgIndlaWdodCI6IDN9CiAgICAgICAgICAgICkuYWRkVG8obWFwXzE2MzMxYzM5OWVhZjQ5Y2ZiODY2NzFhNmVlNWY5YTgzKTsKICAgICAgICAKICAgIAogICAgICAgIHZhciBwb3B1cF81OGNmOWEyYWMwNjA0YjAwYmQyYWFjNDFjMzZlZGI3ZSA9IEwucG9wdXAoeyJtYXhXaWR0aCI6ICIxMDAlIn0pOwoKICAgICAgICAKICAgICAgICAgICAgdmFyIGh0bWxfNTJmYzA1Y2Y2NGY1NGE5NDgxOThiNDdkZWVhOWEyMTYgPSAkKGA8ZGl2IGlkPSJodG1sXzUyZmMwNWNmNjRmNTRhOTQ4MTk4YjQ3ZGVlYTlhMjE2IiBzdHlsZT0id2lkdGg6IDEwMC4wJTsgaGVpZ2h0OiAxMDAuMCU7Ij5MaXR0bGUgUG9ydHVnYWwsVHJpbml0eSwgV2VzdCBUb3JvbnRvPC9kaXY+YClbMF07CiAgICAgICAgICAgIHBvcHVwXzU4Y2Y5YTJhYzA2MDRiMDBiZDJhYWM0MWMzNmVkYjdlLnNldENvbnRlbnQoaHRtbF81MmZjMDVjZjY0ZjU0YTk0ODE5OGI0N2RlZWE5YTIxNik7CiAgICAgICAgCgogICAgICAgIGNpcmNsZV9tYXJrZXJfZjM2NmU4NTYxODNiNDNlMDk3NzMwYTk2Mjk1YzhlNzUuYmluZFBvcHVwKHBvcHVwXzU4Y2Y5YTJhYzA2MDRiMDBiZDJhYWM0MWMzNmVkYjdlKQogICAgICAgIDsKCiAgICAgICAgCiAgICAKICAgIAogICAgICAgICAgICB2YXIgY2lyY2xlX21hcmtlcl85YTlmMzFmYzczMzc0Y2NiOWVmOWMxODNmYjYxODY5NCA9IEwuY2lyY2xlTWFya2VyKAogICAgICAgICAgICAgICAgWzQzLjY3OTU1NzEsIC03OS4zNTIxODhdLAogICAgICAgICAgICAgICAgeyJidWJibGluZ01vdXNlRXZlbnRzIjogdHJ1ZSwgImNvbG9yIjogImJsdWUiLCAiZGFzaEFycmF5IjogbnVsbCwgImRhc2hPZmZzZXQiOiBudWxsLCAiZmlsbCI6IHRydWUsICJmaWxsQ29sb3IiOiAiIzMxODZjYyIsICJmaWxsT3BhY2l0eSI6IDAuNywgImZpbGxSdWxlIjogImV2ZW5vZGQiLCAibGluZUNhcCI6ICJyb3VuZCIsICJsaW5lSm9pbiI6ICJyb3VuZCIsICJvcGFjaXR5IjogMS4wLCAicmFkaXVzIjogNSwgInN0cm9rZSI6IHRydWUsICJ3ZWlnaHQiOiAzfQogICAgICAgICAgICApLmFkZFRvKG1hcF8xNjMzMWMzOTllYWY0OWNmYjg2NjcxYTZlZTVmOWE4Myk7CiAgICAgICAgCiAgICAKICAgICAgICB2YXIgcG9wdXBfMjZhNGYxN2UyNTc0NGYzMzkxYTBhMDQ3N2Y4N2FmMzAgPSBMLnBvcHVwKHsibWF4V2lkdGgiOiAiMTAwJSJ9KTsKCiAgICAgICAgCiAgICAgICAgICAgIHZhciBodG1sXzkwYzBkMmViMmZmOTRhNDI5MjZkZjE5NzkyMDgxOGIzID0gJChgPGRpdiBpZD0iaHRtbF85MGMwZDJlYjJmZjk0YTQyOTI2ZGYxOTc5MjA4MThiMyIgc3R5bGU9IndpZHRoOiAxMDAuMCU7IGhlaWdodDogMTAwLjAlOyI+VGhlIERhbmZvcnRoIFdlc3QsUml2ZXJkYWxlLCBFYXN0IFRvcm9udG88L2Rpdj5gKVswXTsKICAgICAgICAgICAgcG9wdXBfMjZhNGYxN2UyNTc0NGYzMzkxYTBhMDQ3N2Y4N2FmMzAuc2V0Q29udGVudChodG1sXzkwYzBkMmViMmZmOTRhNDI5MjZkZjE5NzkyMDgxOGIzKTsKICAgICAgICAKCiAgICAgICAgY2lyY2xlX21hcmtlcl85YTlmMzFmYzczMzc0Y2NiOWVmOWMxODNmYjYxODY5NC5iaW5kUG9wdXAocG9wdXBfMjZhNGYxN2UyNTc0NGYzMzkxYTBhMDQ3N2Y4N2FmMzApCiAgICAgICAgOwoKICAgICAgICAKICAgIAogICAgCiAgICAgICAgICAgIHZhciBjaXJjbGVfbWFya2VyX2U4ZmYwMWVjOTlkZjRkNzA4ZDBhOTJmYzczZWNjMmNkID0gTC5jaXJjbGVNYXJrZXIoCiAgICAgICAgICAgICAgICBbNDMuNjQ3MTc2OCwgLTc5LjM4MTU3NjQwMDAwMDAxXSwKICAgICAgICAgICAgICAgIHsiYnViYmxpbmdNb3VzZUV2ZW50cyI6IHRydWUsICJjb2xvciI6ICJibHVlIiwgImRhc2hBcnJheSI6IG51bGwsICJkYXNoT2Zmc2V0IjogbnVsbCwgImZpbGwiOiB0cnVlLCAiZmlsbENvbG9yIjogIiMzMTg2Y2MiLCAiZmlsbE9wYWNpdHkiOiAwLjcsICJmaWxsUnVsZSI6ICJldmVub2RkIiwgImxpbmVDYXAiOiAicm91bmQiLCAibGluZUpvaW4iOiAicm91bmQiLCAib3BhY2l0eSI6IDEuMCwgInJhZGl1cyI6IDUsICJzdHJva2UiOiB0cnVlLCAid2VpZ2h0IjogM30KICAgICAgICAgICAgKS5hZGRUbyhtYXBfMTYzMzFjMzk5ZWFmNDljZmI4NjY3MWE2ZWU1ZjlhODMpOwogICAgICAgIAogICAgCiAgICAgICAgdmFyIHBvcHVwX2Q0MTAwNTBhNTFlYzQ2MDJiNDQxMThlMmI1MGU5ZDFkID0gTC5wb3B1cCh7Im1heFdpZHRoIjogIjEwMCUifSk7CgogICAgICAgIAogICAgICAgICAgICB2YXIgaHRtbF8xZDVmNDBhODllNDg0YmY3YTM1YjljZTE2NzgyNjM2MiA9ICQoYDxkaXYgaWQ9Imh0bWxfMWQ1ZjQwYTg5ZTQ4NGJmN2EzNWI5Y2UxNjc4MjYzNjIiIHN0eWxlPSJ3aWR0aDogMTAwLjAlOyBoZWlnaHQ6IDEwMC4wJTsiPkRlc2lnbiBFeGNoYW5nZSxUb3JvbnRvIERvbWluaW9uIENlbnRyZSwgRG93bnRvd24gVG9yb250bzwvZGl2PmApWzBdOwogICAgICAgICAgICBwb3B1cF9kNDEwMDUwYTUxZWM0NjAyYjQ0MTE4ZTJiNTBlOWQxZC5zZXRDb250ZW50KGh0bWxfMWQ1ZjQwYTg5ZTQ4NGJmN2EzNWI5Y2UxNjc4MjYzNjIpOwogICAgICAgIAoKICAgICAgICBjaXJjbGVfbWFya2VyX2U4ZmYwMWVjOTlkZjRkNzA4ZDBhOTJmYzczZWNjMmNkLmJpbmRQb3B1cChwb3B1cF9kNDEwMDUwYTUxZWM0NjAyYjQ0MTE4ZTJiNTBlOWQxZCkKICAgICAgICA7CgogICAgICAgIAogICAgCiAgICAKICAgICAgICAgICAgdmFyIGNpcmNsZV9tYXJrZXJfZTg3NDU5ZWNmMWIwNDRmMmIwMzE5MTNiNGZiM2IzYTQgPSBMLmNpcmNsZU1hcmtlcigKICAgICAgICAgICAgICAgIFs0My42MzY4NDcyLCAtNzkuNDI4MTkxNDAwMDAwMDJdLAogICAgICAgICAgICAgICAgeyJidWJibGluZ01vdXNlRXZlbnRzIjogdHJ1ZSwgImNvbG9yIjogImJsdWUiLCAiZGFzaEFycmF5IjogbnVsbCwgImRhc2hPZmZzZXQiOiBudWxsLCAiZmlsbCI6IHRydWUsICJmaWxsQ29sb3IiOiAiIzMxODZjYyIsICJmaWxsT3BhY2l0eSI6IDAuNywgImZpbGxSdWxlIjogImV2ZW5vZGQiLCAibGluZUNhcCI6ICJyb3VuZCIsICJsaW5lSm9pbiI6ICJyb3VuZCIsICJvcGFjaXR5IjogMS4wLCAicmFkaXVzIjogNSwgInN0cm9rZSI6IHRydWUsICJ3ZWlnaHQiOiAzfQogICAgICAgICAgICApLmFkZFRvKG1hcF8xNjMzMWMzOTllYWY0OWNmYjg2NjcxYTZlZTVmOWE4Myk7CiAgICAgICAgCiAgICAKICAgICAgICB2YXIgcG9wdXBfZTQ0OGM1ZDMxMjU4NDgwM2FmNGRiM2NmMDZjZGQ0ODQgPSBMLnBvcHVwKHsibWF4V2lkdGgiOiAiMTAwJSJ9KTsKCiAgICAgICAgCiAgICAgICAgICAgIHZhciBodG1sXzRhNjM4YTQwODM0MDQ1Mjk5Yjg5MzA3ZGU2Y2NlMjRkID0gJChgPGRpdiBpZD0iaHRtbF80YTYzOGE0MDgzNDA0NTI5OWI4OTMwN2RlNmNjZTI0ZCIgc3R5bGU9IndpZHRoOiAxMDAuMCU7IGhlaWdodDogMTAwLjAlOyI+QnJvY2t0b24sRXhoaWJpdGlvbiBQbGFjZSxQYXJrZGFsZSBWaWxsYWdlLCBXZXN0IFRvcm9udG88L2Rpdj5gKVswXTsKICAgICAgICAgICAgcG9wdXBfZTQ0OGM1ZDMxMjU4NDgwM2FmNGRiM2NmMDZjZGQ0ODQuc2V0Q29udGVudChodG1sXzRhNjM4YTQwODM0MDQ1Mjk5Yjg5MzA3ZGU2Y2NlMjRkKTsKICAgICAgICAKCiAgICAgICAgY2lyY2xlX21hcmtlcl9lODc0NTllY2YxYjA0NGYyYjAzMTkxM2I0ZmIzYjNhNC5iaW5kUG9wdXAocG9wdXBfZTQ0OGM1ZDMxMjU4NDgwM2FmNGRiM2NmMDZjZGQ0ODQpCiAgICAgICAgOwoKICAgICAgICAKICAgIAogICAgCiAgICAgICAgICAgIHZhciBjaXJjbGVfbWFya2VyXzY5NmI4NTQ2MDdlMzQ3MTVhZDliNmE3Yjk2YmE2MmE4ID0gTC5jaXJjbGVNYXJrZXIoCiAgICAgICAgICAgICAgICBbNDMuNjY4OTk4NSwgLTc5LjMxNTU3MTU5OTk5OTk4XSwKICAgICAgICAgICAgICAgIHsiYnViYmxpbmdNb3VzZUV2ZW50cyI6IHRydWUsICJjb2xvciI6ICJibHVlIiwgImRhc2hBcnJheSI6IG51bGwsICJkYXNoT2Zmc2V0IjogbnVsbCwgImZpbGwiOiB0cnVlLCAiZmlsbENvbG9yIjogIiMzMTg2Y2MiLCAiZmlsbE9wYWNpdHkiOiAwLjcsICJmaWxsUnVsZSI6ICJldmVub2RkIiwgImxpbmVDYXAiOiAicm91bmQiLCAibGluZUpvaW4iOiAicm91bmQiLCAib3BhY2l0eSI6IDEuMCwgInJhZGl1cyI6IDUsICJzdHJva2UiOiB0cnVlLCAid2VpZ2h0IjogM30KICAgICAgICAgICAgKS5hZGRUbyhtYXBfMTYzMzFjMzk5ZWFmNDljZmI4NjY3MWE2ZWU1ZjlhODMpOwogICAgICAgIAogICAgCiAgICAgICAgdmFyIHBvcHVwXzAxYTBjZWU4MTg3MzQzYWU5MGM1MThhM2NmNDZiOTg1ID0gTC5wb3B1cCh7Im1heFdpZHRoIjogIjEwMCUifSk7CgogICAgICAgIAogICAgICAgICAgICB2YXIgaHRtbF8xODMzMzg5NTZhYmU0MjVkYjMwMmJkNjY1ZTY5OTRjMCA9ICQoYDxkaXYgaWQ9Imh0bWxfMTgzMzM4OTU2YWJlNDI1ZGIzMDJiZDY2NWU2OTk0YzAiIHN0eWxlPSJ3aWR0aDogMTAwLjAlOyBoZWlnaHQ6IDEwMC4wJTsiPlRoZSBCZWFjaGVzIFdlc3QsSW5kaWEgQmF6YWFyLCBFYXN0IFRvcm9udG88L2Rpdj5gKVswXTsKICAgICAgICAgICAgcG9wdXBfMDFhMGNlZTgxODczNDNhZTkwYzUxOGEzY2Y0NmI5ODUuc2V0Q29udGVudChodG1sXzE4MzMzODk1NmFiZTQyNWRiMzAyYmQ2NjVlNjk5NGMwKTsKICAgICAgICAKCiAgICAgICAgY2lyY2xlX21hcmtlcl82OTZiODU0NjA3ZTM0NzE1YWQ5YjZhN2I5NmJhNjJhOC5iaW5kUG9wdXAocG9wdXBfMDFhMGNlZTgxODczNDNhZTkwYzUxOGEzY2Y0NmI5ODUpCiAgICAgICAgOwoKICAgICAgICAKICAgIAogICAgCiAgICAgICAgICAgIHZhciBjaXJjbGVfbWFya2VyX2RlMzUxNWYxYTc3MjQ3MDNhMjg5ODdjYzViN2QyNDIwID0gTC5jaXJjbGVNYXJrZXIoCiAgICAgICAgICAgICAgICBbNDMuNjQ4MTk4NSwgLTc5LjM3OTgxNjkwMDAwMDAxXSwKICAgICAgICAgICAgICAgIHsiYnViYmxpbmdNb3VzZUV2ZW50cyI6IHRydWUsICJjb2xvciI6ICJibHVlIiwgImRhc2hBcnJheSI6IG51bGwsICJkYXNoT2Zmc2V0IjogbnVsbCwgImZpbGwiOiB0cnVlLCAiZmlsbENvbG9yIjogIiMzMTg2Y2MiLCAiZmlsbE9wYWNpdHkiOiAwLjcsICJmaWxsUnVsZSI6ICJldmVub2RkIiwgImxpbmVDYXAiOiAicm91bmQiLCAibGluZUpvaW4iOiAicm91bmQiLCAib3BhY2l0eSI6IDEuMCwgInJhZGl1cyI6IDUsICJzdHJva2UiOiB0cnVlLCAid2VpZ2h0IjogM30KICAgICAgICAgICAgKS5hZGRUbyhtYXBfMTYzMzFjMzk5ZWFmNDljZmI4NjY3MWE2ZWU1ZjlhODMpOwogICAgICAgIAogICAgCiAgICAgICAgdmFyIHBvcHVwXzBlYjhiYTVkZDIxNTRlMWVhNzA3MDQ4YWE4ZDk3MDg4ID0gTC5wb3B1cCh7Im1heFdpZHRoIjogIjEwMCUifSk7CgogICAgICAgIAogICAgICAgICAgICB2YXIgaHRtbF8yZTk0NTM4MDNiMzg0NjBhOTM4YzJlZWVlODZmMTZkNCA9ICQoYDxkaXYgaWQ9Imh0bWxfMmU5NDUzODAzYjM4NDYwYTkzOGMyZWVlZTg2ZjE2ZDQiIHN0eWxlPSJ3aWR0aDogMTAwLjAlOyBoZWlnaHQ6IDEwMC4wJTsiPkNvbW1lcmNlIENvdXJ0LFZpY3RvcmlhIEhvdGVsLCBEb3dudG93biBUb3JvbnRvPC9kaXY+YClbMF07CiAgICAgICAgICAgIHBvcHVwXzBlYjhiYTVkZDIxNTRlMWVhNzA3MDQ4YWE4ZDk3MDg4LnNldENvbnRlbnQoaHRtbF8yZTk0NTM4MDNiMzg0NjBhOTM4YzJlZWVlODZmMTZkNCk7CiAgICAgICAgCgogICAgICAgIGNpcmNsZV9tYXJrZXJfZGUzNTE1ZjFhNzcyNDcwM2EyODk4N2NjNWI3ZDI0MjAuYmluZFBvcHVwKHBvcHVwXzBlYjhiYTVkZDIxNTRlMWVhNzA3MDQ4YWE4ZDk3MDg4KQogICAgICAgIDsKCiAgICAgICAgCiAgICAKICAgIAogICAgICAgICAgICB2YXIgY2lyY2xlX21hcmtlcl9kZjM3Mzg4MWE5ZTU0MzJhOGZkYmUzZjQwNTI2NWE0OSA9IEwuY2lyY2xlTWFya2VyKAogICAgICAgICAgICAgICAgWzQzLjY1OTUyNTUsIC03OS4zNDA5MjNdLAogICAgICAgICAgICAgICAgeyJidWJibGluZ01vdXNlRXZlbnRzIjogdHJ1ZSwgImNvbG9yIjogImJsdWUiLCAiZGFzaEFycmF5IjogbnVsbCwgImRhc2hPZmZzZXQiOiBudWxsLCAiZmlsbCI6IHRydWUsICJmaWxsQ29sb3IiOiAiIzMxODZjYyIsICJmaWxsT3BhY2l0eSI6IDAuNywgImZpbGxSdWxlIjogImV2ZW5vZGQiLCAibGluZUNhcCI6ICJyb3VuZCIsICJsaW5lSm9pbiI6ICJyb3VuZCIsICJvcGFjaXR5IjogMS4wLCAicmFkaXVzIjogNSwgInN0cm9rZSI6IHRydWUsICJ3ZWlnaHQiOiAzfQogICAgICAgICAgICApLmFkZFRvKG1hcF8xNjMzMWMzOTllYWY0OWNmYjg2NjcxYTZlZTVmOWE4Myk7CiAgICAgICAgCiAgICAKICAgICAgICB2YXIgcG9wdXBfZjA1MjdlYjcyZjE2NDcyYjgxOGY3NWRkMTczYWQzOGIgPSBMLnBvcHVwKHsibWF4V2lkdGgiOiAiMTAwJSJ9KTsKCiAgICAgICAgCiAgICAgICAgICAgIHZhciBodG1sXzE4YjM2ZDUwYTkxYTQ0YjdiZDI5MjQyOWQ1OWYxZjBhID0gJChgPGRpdiBpZD0iaHRtbF8xOGIzNmQ1MGE5MWE0NGI3YmQyOTI0MjlkNTlmMWYwYSIgc3R5bGU9IndpZHRoOiAxMDAuMCU7IGhlaWdodDogMTAwLjAlOyI+U3R1ZGlvIERpc3RyaWN0LCBFYXN0IFRvcm9udG88L2Rpdj5gKVswXTsKICAgICAgICAgICAgcG9wdXBfZjA1MjdlYjcyZjE2NDcyYjgxOGY3NWRkMTczYWQzOGIuc2V0Q29udGVudChodG1sXzE4YjM2ZDUwYTkxYTQ0YjdiZDI5MjQyOWQ1OWYxZjBhKTsKICAgICAgICAKCiAgICAgICAgY2lyY2xlX21hcmtlcl9kZjM3Mzg4MWE5ZTU0MzJhOGZkYmUzZjQwNTI2NWE0OS5iaW5kUG9wdXAocG9wdXBfZjA1MjdlYjcyZjE2NDcyYjgxOGY3NWRkMTczYWQzOGIpCiAgICAgICAgOwoKICAgICAgICAKICAgIAogICAgCiAgICAgICAgICAgIHZhciBjaXJjbGVfbWFya2VyX2YwNDVkNmZmNWI2MjQ2MGViYmMwMjE1MGExMzk0MjkyID0gTC5jaXJjbGVNYXJrZXIoCiAgICAgICAgICAgICAgICBbNDMuNzI4MDIwNSwgLTc5LjM4ODc5MDFdLAogICAgICAgICAgICAgICAgeyJidWJibGluZ01vdXNlRXZlbnRzIjogdHJ1ZSwgImNvbG9yIjogImJsdWUiLCAiZGFzaEFycmF5IjogbnVsbCwgImRhc2hPZmZzZXQiOiBudWxsLCAiZmlsbCI6IHRydWUsICJmaWxsQ29sb3IiOiAiIzMxODZjYyIsICJmaWxsT3BhY2l0eSI6IDAuNywgImZpbGxSdWxlIjogImV2ZW5vZGQiLCAibGluZUNhcCI6ICJyb3VuZCIsICJsaW5lSm9pbiI6ICJyb3VuZCIsICJvcGFjaXR5IjogMS4wLCAicmFkaXVzIjogNSwgInN0cm9rZSI6IHRydWUsICJ3ZWlnaHQiOiAzfQogICAgICAgICAgICApLmFkZFRvKG1hcF8xNjMzMWMzOTllYWY0OWNmYjg2NjcxYTZlZTVmOWE4Myk7CiAgICAgICAgCiAgICAKICAgICAgICB2YXIgcG9wdXBfMzFiMzdlMGYwNGQ1NDM4ZWEyZGUxZjdhMmQzNzI5NzMgPSBMLnBvcHVwKHsibWF4V2lkdGgiOiAiMTAwJSJ9KTsKCiAgICAgICAgCiAgICAgICAgICAgIHZhciBodG1sX2I5NmQ4NGQ5NmQ0NDRkNjQ5NDhlNjRmNWY5NDQ1NTU5ID0gJChgPGRpdiBpZD0iaHRtbF9iOTZkODRkOTZkNDQ0ZDY0OTQ4ZTY0ZjVmOTQ0NTU1OSIgc3R5bGU9IndpZHRoOiAxMDAuMCU7IGhlaWdodDogMTAwLjAlOyI+TGF3cmVuY2UgUGFyaywgQ2VudHJhbCBUb3JvbnRvPC9kaXY+YClbMF07CiAgICAgICAgICAgIHBvcHVwXzMxYjM3ZTBmMDRkNTQzOGVhMmRlMWY3YTJkMzcyOTczLnNldENvbnRlbnQoaHRtbF9iOTZkODRkOTZkNDQ0ZDY0OTQ4ZTY0ZjVmOTQ0NTU1OSk7CiAgICAgICAgCgogICAgICAgIGNpcmNsZV9tYXJrZXJfZjA0NWQ2ZmY1YjYyNDYwZWJiYzAyMTUwYTEzOTQyOTIuYmluZFBvcHVwKHBvcHVwXzMxYjM3ZTBmMDRkNTQzOGVhMmRlMWY3YTJkMzcyOTczKQogICAgICAgIDsKCiAgICAgICAgCiAgICAKICAgIAogICAgICAgICAgICB2YXIgY2lyY2xlX21hcmtlcl85OGFjYTkyNjY2OGE0NjAxYWRmNjRlYmMyMDdlNWY2ZCA9IEwuY2lyY2xlTWFya2VyKAogICAgICAgICAgICAgICAgWzQzLjcxMTY5NDgsIC03OS40MTY5MzU1OTk5OTk5OV0sCiAgICAgICAgICAgICAgICB7ImJ1YmJsaW5nTW91c2VFdmVudHMiOiB0cnVlLCAiY29sb3IiOiAiYmx1ZSIsICJkYXNoQXJyYXkiOiBudWxsLCAiZGFzaE9mZnNldCI6IG51bGwsICJmaWxsIjogdHJ1ZSwgImZpbGxDb2xvciI6ICIjMzE4NmNjIiwgImZpbGxPcGFjaXR5IjogMC43LCAiZmlsbFJ1bGUiOiAiZXZlbm9kZCIsICJsaW5lQ2FwIjogInJvdW5kIiwgImxpbmVKb2luIjogInJvdW5kIiwgIm9wYWNpdHkiOiAxLjAsICJyYWRpdXMiOiA1LCAic3Ryb2tlIjogdHJ1ZSwgIndlaWdodCI6IDN9CiAgICAgICAgICAgICkuYWRkVG8obWFwXzE2MzMxYzM5OWVhZjQ5Y2ZiODY2NzFhNmVlNWY5YTgzKTsKICAgICAgICAKICAgIAogICAgICAgIHZhciBwb3B1cF8zNzFiNTdlNmE2N2Y0ZmVjYmRjOTIxYmQ5ZjBmMDBhNCA9IEwucG9wdXAoeyJtYXhXaWR0aCI6ICIxMDAlIn0pOwoKICAgICAgICAKICAgICAgICAgICAgdmFyIGh0bWxfMDVkMmY1YmY5NDMxNDdhYWJiMmQyOThmMWJiZDVlOTMgPSAkKGA8ZGl2IGlkPSJodG1sXzA1ZDJmNWJmOTQzMTQ3YWFiYjJkMjk4ZjFiYmQ1ZTkzIiBzdHlsZT0id2lkdGg6IDEwMC4wJTsgaGVpZ2h0OiAxMDAuMCU7Ij5Sb3NlbGF3biwgQ2VudHJhbCBUb3JvbnRvPC9kaXY+YClbMF07CiAgICAgICAgICAgIHBvcHVwXzM3MWI1N2U2YTY3ZjRmZWNiZGM5MjFiZDlmMGYwMGE0LnNldENvbnRlbnQoaHRtbF8wNWQyZjViZjk0MzE0N2FhYmIyZDI5OGYxYmJkNWU5Myk7CiAgICAgICAgCgogICAgICAgIGNpcmNsZV9tYXJrZXJfOThhY2E5MjY2NjhhNDYwMWFkZjY0ZWJjMjA3ZTVmNmQuYmluZFBvcHVwKHBvcHVwXzM3MWI1N2U2YTY3ZjRmZWNiZGM5MjFiZDlmMGYwMGE0KQogICAgICAgIDsKCiAgICAgICAgCiAgICAKICAgIAogICAgICAgICAgICB2YXIgY2lyY2xlX21hcmtlcl8wYTM5ZGVhZjhhYzU0MTc4YjM4YmIyOGUzNmYzM2Q0YiA9IEwuY2lyY2xlTWFya2VyKAogICAgICAgICAgICAgICAgWzQzLjcxMjc1MTEsIC03OS4zOTAxOTc1XSwKICAgICAgICAgICAgICAgIHsiYnViYmxpbmdNb3VzZUV2ZW50cyI6IHRydWUsICJjb2xvciI6ICJibHVlIiwgImRhc2hBcnJheSI6IG51bGwsICJkYXNoT2Zmc2V0IjogbnVsbCwgImZpbGwiOiB0cnVlLCAiZmlsbENvbG9yIjogIiMzMTg2Y2MiLCAiZmlsbE9wYWNpdHkiOiAwLjcsICJmaWxsUnVsZSI6ICJldmVub2RkIiwgImxpbmVDYXAiOiAicm91bmQiLCAibGluZUpvaW4iOiAicm91bmQiLCAib3BhY2l0eSI6IDEuMCwgInJhZGl1cyI6IDUsICJzdHJva2UiOiB0cnVlLCAid2VpZ2h0IjogM30KICAgICAgICAgICAgKS5hZGRUbyhtYXBfMTYzMzFjMzk5ZWFmNDljZmI4NjY3MWE2ZWU1ZjlhODMpOwogICAgICAgIAogICAgCiAgICAgICAgdmFyIHBvcHVwXzk1NGFmYWQxNTY1ZjRiZjI4YWJjMGU3NmNmZWM4Njk4ID0gTC5wb3B1cCh7Im1heFdpZHRoIjogIjEwMCUifSk7CgogICAgICAgIAogICAgICAgICAgICB2YXIgaHRtbF9iM2RiMWUwNmRhYzM0Y2VmODc0ZDk1ZTFmNjJmZDg2MiA9ICQoYDxkaXYgaWQ9Imh0bWxfYjNkYjFlMDZkYWMzNGNlZjg3NGQ5NWUxZjYyZmQ4NjIiIHN0eWxlPSJ3aWR0aDogMTAwLjAlOyBoZWlnaHQ6IDEwMC4wJTsiPkRhdmlzdmlsbGUgTm9ydGgsIENlbnRyYWwgVG9yb250bzwvZGl2PmApWzBdOwogICAgICAgICAgICBwb3B1cF85NTRhZmFkMTU2NWY0YmYyOGFiYzBlNzZjZmVjODY5OC5zZXRDb250ZW50KGh0bWxfYjNkYjFlMDZkYWMzNGNlZjg3NGQ5NWUxZjYyZmQ4NjIpOwogICAgICAgIAoKICAgICAgICBjaXJjbGVfbWFya2VyXzBhMzlkZWFmOGFjNTQxNzhiMzhiYjI4ZTM2ZjMzZDRiLmJpbmRQb3B1cChwb3B1cF85NTRhZmFkMTU2NWY0YmYyOGFiYzBlNzZjZmVjODY5OCkKICAgICAgICA7CgogICAgICAgIAogICAgCiAgICAKICAgICAgICAgICAgdmFyIGNpcmNsZV9tYXJrZXJfYTNhZjZlMjIzNTBlNDQyYmFkM2QxYjU2YTM5YTBjNjMgPSBMLmNpcmNsZU1hcmtlcigKICAgICAgICAgICAgICAgIFs0My42OTY5NDc2LCAtNzkuNDExMzA3MjAwMDAwMDFdLAogICAgICAgICAgICAgICAgeyJidWJibGluZ01vdXNlRXZlbnRzIjogdHJ1ZSwgImNvbG9yIjogImJsdWUiLCAiZGFzaEFycmF5IjogbnVsbCwgImRhc2hPZmZzZXQiOiBudWxsLCAiZmlsbCI6IHRydWUsICJmaWxsQ29sb3IiOiAiIzMxODZjYyIsICJmaWxsT3BhY2l0eSI6IDAuNywgImZpbGxSdWxlIjogImV2ZW5vZGQiLCAibGluZUNhcCI6ICJyb3VuZCIsICJsaW5lSm9pbiI6ICJyb3VuZCIsICJvcGFjaXR5IjogMS4wLCAicmFkaXVzIjogNSwgInN0cm9rZSI6IHRydWUsICJ3ZWlnaHQiOiAzfQogICAgICAgICAgICApLmFkZFRvKG1hcF8xNjMzMWMzOTllYWY0OWNmYjg2NjcxYTZlZTVmOWE4Myk7CiAgICAgICAgCiAgICAKICAgICAgICB2YXIgcG9wdXBfMjA4ZmEzYWU4NGQ5NGQyN2FjNGU3MDU3YTQ3OGQ4NWMgPSBMLnBvcHVwKHsibWF4V2lkdGgiOiAiMTAwJSJ9KTsKCiAgICAgICAgCiAgICAgICAgICAgIHZhciBodG1sXzA5OGFlOGQ3NGI0NTRlMzlhZDdhYWY2MmZhMDVlMDRmID0gJChgPGRpdiBpZD0iaHRtbF8wOThhZThkNzRiNDU0ZTM5YWQ3YWFmNjJmYTA1ZTA0ZiIgc3R5bGU9IndpZHRoOiAxMDAuMCU7IGhlaWdodDogMTAwLjAlOyI+Rm9yZXN0IEhpbGwgTm9ydGgsRm9yZXN0IEhpbGwgV2VzdCwgQ2VudHJhbCBUb3JvbnRvPC9kaXY+YClbMF07CiAgICAgICAgICAgIHBvcHVwXzIwOGZhM2FlODRkOTRkMjdhYzRlNzA1N2E0NzhkODVjLnNldENvbnRlbnQoaHRtbF8wOThhZThkNzRiNDU0ZTM5YWQ3YWFmNjJmYTA1ZTA0Zik7CiAgICAgICAgCgogICAgICAgIGNpcmNsZV9tYXJrZXJfYTNhZjZlMjIzNTBlNDQyYmFkM2QxYjU2YTM5YTBjNjMuYmluZFBvcHVwKHBvcHVwXzIwOGZhM2FlODRkOTRkMjdhYzRlNzA1N2E0NzhkODVjKQogICAgICAgIDsKCiAgICAgICAgCiAgICAKICAgIAogICAgICAgICAgICB2YXIgY2lyY2xlX21hcmtlcl8xZTU5NTgyMjU3NmE0ZGUxOGMwZWQ1NWM4N2VlMWU3ZiA9IEwuY2lyY2xlTWFya2VyKAogICAgICAgICAgICAgICAgWzQzLjY2MTYwODMsIC03OS40NjQ3NjMyOTk5OTk5OV0sCiAgICAgICAgICAgICAgICB7ImJ1YmJsaW5nTW91c2VFdmVudHMiOiB0cnVlLCAiY29sb3IiOiAiYmx1ZSIsICJkYXNoQXJyYXkiOiBudWxsLCAiZGFzaE9mZnNldCI6IG51bGwsICJmaWxsIjogdHJ1ZSwgImZpbGxDb2xvciI6ICIjMzE4NmNjIiwgImZpbGxPcGFjaXR5IjogMC43LCAiZmlsbFJ1bGUiOiAiZXZlbm9kZCIsICJsaW5lQ2FwIjogInJvdW5kIiwgImxpbmVKb2luIjogInJvdW5kIiwgIm9wYWNpdHkiOiAxLjAsICJyYWRpdXMiOiA1LCAic3Ryb2tlIjogdHJ1ZSwgIndlaWdodCI6IDN9CiAgICAgICAgICAgICkuYWRkVG8obWFwXzE2MzMxYzM5OWVhZjQ5Y2ZiODY2NzFhNmVlNWY5YTgzKTsKICAgICAgICAKICAgIAogICAgICAgIHZhciBwb3B1cF80Zjk3NWIxZTJhMDQ0MzdmYWQ2YmU0YmQwMDU1NTVmOSA9IEwucG9wdXAoeyJtYXhXaWR0aCI6ICIxMDAlIn0pOwoKICAgICAgICAKICAgICAgICAgICAgdmFyIGh0bWxfYzU0NmVlMDA5YmNhNDlmMzlkZTE2MzM5MGM3YzI0MTcgPSAkKGA8ZGl2IGlkPSJodG1sX2M1NDZlZTAwOWJjYTQ5ZjM5ZGUxNjMzOTBjN2MyNDE3IiBzdHlsZT0id2lkdGg6IDEwMC4wJTsgaGVpZ2h0OiAxMDAuMCU7Ij5IaWdoIFBhcmssVGhlIEp1bmN0aW9uIFNvdXRoLCBXZXN0IFRvcm9udG88L2Rpdj5gKVswXTsKICAgICAgICAgICAgcG9wdXBfNGY5NzViMWUyYTA0NDM3ZmFkNmJlNGJkMDA1NTU1Zjkuc2V0Q29udGVudChodG1sX2M1NDZlZTAwOWJjYTQ5ZjM5ZGUxNjMzOTBjN2MyNDE3KTsKICAgICAgICAKCiAgICAgICAgY2lyY2xlX21hcmtlcl8xZTU5NTgyMjU3NmE0ZGUxOGMwZWQ1NWM4N2VlMWU3Zi5iaW5kUG9wdXAocG9wdXBfNGY5NzViMWUyYTA0NDM3ZmFkNmJlNGJkMDA1NTU1ZjkpCiAgICAgICAgOwoKICAgICAgICAKICAgIAogICAgCiAgICAgICAgICAgIHZhciBjaXJjbGVfbWFya2VyXzgwZmExOTI4MjcwODRkMDFiYWI2OTk5MGU1NDc0NzI5ID0gTC5jaXJjbGVNYXJrZXIoCiAgICAgICAgICAgICAgICBbNDMuNzE1MzgzNCwgLTc5LjQwNTY3ODQwMDAwMDAxXSwKICAgICAgICAgICAgICAgIHsiYnViYmxpbmdNb3VzZUV2ZW50cyI6IHRydWUsICJjb2xvciI6ICJibHVlIiwgImRhc2hBcnJheSI6IG51bGwsICJkYXNoT2Zmc2V0IjogbnVsbCwgImZpbGwiOiB0cnVlLCAiZmlsbENvbG9yIjogIiMzMTg2Y2MiLCAiZmlsbE9wYWNpdHkiOiAwLjcsICJmaWxsUnVsZSI6ICJldmVub2RkIiwgImxpbmVDYXAiOiAicm91bmQiLCAibGluZUpvaW4iOiAicm91bmQiLCAib3BhY2l0eSI6IDEuMCwgInJhZGl1cyI6IDUsICJzdHJva2UiOiB0cnVlLCAid2VpZ2h0IjogM30KICAgICAgICAgICAgKS5hZGRUbyhtYXBfMTYzMzFjMzk5ZWFmNDljZmI4NjY3MWE2ZWU1ZjlhODMpOwogICAgICAgIAogICAgCiAgICAgICAgdmFyIHBvcHVwXzM2NzkwNTZkYzg0YzRmZmFiNjZlZmI4MDVkM2Y3ZjljID0gTC5wb3B1cCh7Im1heFdpZHRoIjogIjEwMCUifSk7CgogICAgICAgIAogICAgICAgICAgICB2YXIgaHRtbF9kOTJhMjI5MTRkMjg0NjJmOWU4OTJlMGRiOGIwNzcyMSA9ICQoYDxkaXYgaWQ9Imh0bWxfZDkyYTIyOTE0ZDI4NDYyZjllODkyZTBkYjhiMDc3MjEiIHN0eWxlPSJ3aWR0aDogMTAwLjAlOyBoZWlnaHQ6IDEwMC4wJTsiPk5vcnRoIFRvcm9udG8gV2VzdCwgQ2VudHJhbCBUb3JvbnRvPC9kaXY+YClbMF07CiAgICAgICAgICAgIHBvcHVwXzM2NzkwNTZkYzg0YzRmZmFiNjZlZmI4MDVkM2Y3ZjljLnNldENvbnRlbnQoaHRtbF9kOTJhMjI5MTRkMjg0NjJmOWU4OTJlMGRiOGIwNzcyMSk7CiAgICAgICAgCgogICAgICAgIGNpcmNsZV9tYXJrZXJfODBmYTE5MjgyNzA4NGQwMWJhYjY5OTkwZTU0NzQ3MjkuYmluZFBvcHVwKHBvcHVwXzM2NzkwNTZkYzg0YzRmZmFiNjZlZmI4MDVkM2Y3ZjljKQogICAgICAgIDsKCiAgICAgICAgCiAgICAKICAgIAogICAgICAgICAgICB2YXIgY2lyY2xlX21hcmtlcl84M2U5NzI0YjBlMDk0NzVkYThmOTYzM2RiYTU5YTE4MyA9IEwuY2lyY2xlTWFya2VyKAogICAgICAgICAgICAgICAgWzQzLjY3MjcwOTcsIC03OS40MDU2Nzg0MDAwMDAwMV0sCiAgICAgICAgICAgICAgICB7ImJ1YmJsaW5nTW91c2VFdmVudHMiOiB0cnVlLCAiY29sb3IiOiAiYmx1ZSIsICJkYXNoQXJyYXkiOiBudWxsLCAiZGFzaE9mZnNldCI6IG51bGwsICJmaWxsIjogdHJ1ZSwgImZpbGxDb2xvciI6ICIjMzE4NmNjIiwgImZpbGxPcGFjaXR5IjogMC43LCAiZmlsbFJ1bGUiOiAiZXZlbm9kZCIsICJsaW5lQ2FwIjogInJvdW5kIiwgImxpbmVKb2luIjogInJvdW5kIiwgIm9wYWNpdHkiOiAxLjAsICJyYWRpdXMiOiA1LCAic3Ryb2tlIjogdHJ1ZSwgIndlaWdodCI6IDN9CiAgICAgICAgICAgICkuYWRkVG8obWFwXzE2MzMxYzM5OWVhZjQ5Y2ZiODY2NzFhNmVlNWY5YTgzKTsKICAgICAgICAKICAgIAogICAgICAgIHZhciBwb3B1cF80MjUxOTk3NWY4YTc0ZDVhOTM4ZTA3Yzc5M2QyNjAzOSA9IEwucG9wdXAoeyJtYXhXaWR0aCI6ICIxMDAlIn0pOwoKICAgICAgICAKICAgICAgICAgICAgdmFyIGh0bWxfNmQwOWUwYTA5ODM2NDBiMWIwMjM3MzZlOWE1NjdmMWIgPSAkKGA8ZGl2IGlkPSJodG1sXzZkMDllMGEwOTgzNjQwYjFiMDIzNzM2ZTlhNTY3ZjFiIiBzdHlsZT0id2lkdGg6IDEwMC4wJTsgaGVpZ2h0OiAxMDAuMCU7Ij5UaGUgQW5uZXgsTm9ydGggTWlkdG93bixZb3JrdmlsbGUsIENlbnRyYWwgVG9yb250bzwvZGl2PmApWzBdOwogICAgICAgICAgICBwb3B1cF80MjUxOTk3NWY4YTc0ZDVhOTM4ZTA3Yzc5M2QyNjAzOS5zZXRDb250ZW50KGh0bWxfNmQwOWUwYTA5ODM2NDBiMWIwMjM3MzZlOWE1NjdmMWIpOwogICAgICAgIAoKICAgICAgICBjaXJjbGVfbWFya2VyXzgzZTk3MjRiMGUwOTQ3NWRhOGY5NjMzZGJhNTlhMTgzLmJpbmRQb3B1cChwb3B1cF80MjUxOTk3NWY4YTc0ZDVhOTM4ZTA3Yzc5M2QyNjAzOSkKICAgICAgICA7CgogICAgICAgIAogICAgCiAgICAKICAgICAgICAgICAgdmFyIGNpcmNsZV9tYXJrZXJfOWU2NzY3ZDY0ZTcyNGRkZmEzMjJmNDVhZTI0YTM5YmYgPSBMLmNpcmNsZU1hcmtlcigKICAgICAgICAgICAgICAgIFs0My42NDg5NTk3LCAtNzkuNDU2MzI1XSwKICAgICAgICAgICAgICAgIHsiYnViYmxpbmdNb3VzZUV2ZW50cyI6IHRydWUsICJjb2xvciI6ICJibHVlIiwgImRhc2hBcnJheSI6IG51bGwsICJkYXNoT2Zmc2V0IjogbnVsbCwgImZpbGwiOiB0cnVlLCAiZmlsbENvbG9yIjogIiMzMTg2Y2MiLCAiZmlsbE9wYWNpdHkiOiAwLjcsICJmaWxsUnVsZSI6ICJldmVub2RkIiwgImxpbmVDYXAiOiAicm91bmQiLCAibGluZUpvaW4iOiAicm91bmQiLCAib3BhY2l0eSI6IDEuMCwgInJhZGl1cyI6IDUsICJzdHJva2UiOiB0cnVlLCAid2VpZ2h0IjogM30KICAgICAgICAgICAgKS5hZGRUbyhtYXBfMTYzMzFjMzk5ZWFmNDljZmI4NjY3MWE2ZWU1ZjlhODMpOwogICAgICAgIAogICAgCiAgICAgICAgdmFyIHBvcHVwXzE3NmEwMTY1ZjJiOTQzZTA5YjJlMjA4NzA1ZWMwOTQ5ID0gTC5wb3B1cCh7Im1heFdpZHRoIjogIjEwMCUifSk7CgogICAgICAgIAogICAgICAgICAgICB2YXIgaHRtbF9lNGMzOTE3MWVjZmE0YzMzOGI4ZjhiMDdjYWJiNGIzNiA9ICQoYDxkaXYgaWQ9Imh0bWxfZTRjMzkxNzFlY2ZhNGMzMzhiOGY4YjA3Y2FiYjRiMzYiIHN0eWxlPSJ3aWR0aDogMTAwLjAlOyBoZWlnaHQ6IDEwMC4wJTsiPlBhcmtkYWxlLFJvbmNlc3ZhbGxlcywgV2VzdCBUb3JvbnRvPC9kaXY+YClbMF07CiAgICAgICAgICAgIHBvcHVwXzE3NmEwMTY1ZjJiOTQzZTA5YjJlMjA4NzA1ZWMwOTQ5LnNldENvbnRlbnQoaHRtbF9lNGMzOTE3MWVjZmE0YzMzOGI4ZjhiMDdjYWJiNGIzNik7CiAgICAgICAgCgogICAgICAgIGNpcmNsZV9tYXJrZXJfOWU2NzY3ZDY0ZTcyNGRkZmEzMjJmNDVhZTI0YTM5YmYuYmluZFBvcHVwKHBvcHVwXzE3NmEwMTY1ZjJiOTQzZTA5YjJlMjA4NzA1ZWMwOTQ5KQogICAgICAgIDsKCiAgICAgICAgCiAgICAKICAgIAogICAgICAgICAgICB2YXIgY2lyY2xlX21hcmtlcl81MjcxNTQ2OTQyODI0OTY0YjFkNTRmOTFiYWMxZDFlOSA9IEwuY2lyY2xlTWFya2VyKAogICAgICAgICAgICAgICAgWzQzLjcwNDMyNDQsIC03OS4zODg3OTAxXSwKICAgICAgICAgICAgICAgIHsiYnViYmxpbmdNb3VzZUV2ZW50cyI6IHRydWUsICJjb2xvciI6ICJibHVlIiwgImRhc2hBcnJheSI6IG51bGwsICJkYXNoT2Zmc2V0IjogbnVsbCwgImZpbGwiOiB0cnVlLCAiZmlsbENvbG9yIjogIiMzMTg2Y2MiLCAiZmlsbE9wYWNpdHkiOiAwLjcsICJmaWxsUnVsZSI6ICJldmVub2RkIiwgImxpbmVDYXAiOiAicm91bmQiLCAibGluZUpvaW4iOiAicm91bmQiLCAib3BhY2l0eSI6IDEuMCwgInJhZGl1cyI6IDUsICJzdHJva2UiOiB0cnVlLCAid2VpZ2h0IjogM30KICAgICAgICAgICAgKS5hZGRUbyhtYXBfMTYzMzFjMzk5ZWFmNDljZmI4NjY3MWE2ZWU1ZjlhODMpOwogICAgICAgIAogICAgCiAgICAgICAgdmFyIHBvcHVwXzczNWJmZjI1YmI0YzQxODU5ZGIxNzIyMjE2NWVjZjg5ID0gTC5wb3B1cCh7Im1heFdpZHRoIjogIjEwMCUifSk7CgogICAgICAgIAogICAgICAgICAgICB2YXIgaHRtbF82ZmYwZjY0ZmMxMjU0NmYzYTdkZmE5NzE0OTI4Njk5YyA9ICQoYDxkaXYgaWQ9Imh0bWxfNmZmMGY2NGZjMTI1NDZmM2E3ZGZhOTcxNDkyODY5OWMiIHN0eWxlPSJ3aWR0aDogMTAwLjAlOyBoZWlnaHQ6IDEwMC4wJTsiPkRhdmlzdmlsbGUsIENlbnRyYWwgVG9yb250bzwvZGl2PmApWzBdOwogICAgICAgICAgICBwb3B1cF83MzViZmYyNWJiNGM0MTg1OWRiMTcyMjIxNjVlY2Y4OS5zZXRDb250ZW50KGh0bWxfNmZmMGY2NGZjMTI1NDZmM2E3ZGZhOTcxNDkyODY5OWMpOwogICAgICAgIAoKICAgICAgICBjaXJjbGVfbWFya2VyXzUyNzE1NDY5NDI4MjQ5NjRiMWQ1NGY5MWJhYzFkMWU5LmJpbmRQb3B1cChwb3B1cF83MzViZmYyNWJiNGM0MTg1OWRiMTcyMjIxNjVlY2Y4OSkKICAgICAgICA7CgogICAgICAgIAogICAgCiAgICAKICAgICAgICAgICAgdmFyIGNpcmNsZV9tYXJrZXJfMTdmODkyODJkZGVlNDg4NWIxMTA2MzNmYmNmNzNkMWIgPSBMLmNpcmNsZU1hcmtlcigKICAgICAgICAgICAgICAgIFs0My42NjI2OTU2LCAtNzkuNDAwMDQ5M10sCiAgICAgICAgICAgICAgICB7ImJ1YmJsaW5nTW91c2VFdmVudHMiOiB0cnVlLCAiY29sb3IiOiAiYmx1ZSIsICJkYXNoQXJyYXkiOiBudWxsLCAiZGFzaE9mZnNldCI6IG51bGwsICJmaWxsIjogdHJ1ZSwgImZpbGxDb2xvciI6ICIjMzE4NmNjIiwgImZpbGxPcGFjaXR5IjogMC43LCAiZmlsbFJ1bGUiOiAiZXZlbm9kZCIsICJsaW5lQ2FwIjogInJvdW5kIiwgImxpbmVKb2luIjogInJvdW5kIiwgIm9wYWNpdHkiOiAxLjAsICJyYWRpdXMiOiA1LCAic3Ryb2tlIjogdHJ1ZSwgIndlaWdodCI6IDN9CiAgICAgICAgICAgICkuYWRkVG8obWFwXzE2MzMxYzM5OWVhZjQ5Y2ZiODY2NzFhNmVlNWY5YTgzKTsKICAgICAgICAKICAgIAogICAgICAgIHZhciBwb3B1cF81NGI4YWNjYzFhYWU0YTc4YTNmOGFmZWM5OTI3MGZkMyA9IEwucG9wdXAoeyJtYXhXaWR0aCI6ICIxMDAlIn0pOwoKICAgICAgICAKICAgICAgICAgICAgdmFyIGh0bWxfZWU2ODBjMmE4YjcwNDFmNTg5NWUzNDk0NDI5NDdjYzUgPSAkKGA8ZGl2IGlkPSJodG1sX2VlNjgwYzJhOGI3MDQxZjU4OTVlMzQ5NDQyOTQ3Y2M1IiBzdHlsZT0id2lkdGg6IDEwMC4wJTsgaGVpZ2h0OiAxMDAuMCU7Ij5IYXJib3JkLFVuaXZlcnNpdHkgb2YgVG9yb250bywgRG93bnRvd24gVG9yb250bzwvZGl2PmApWzBdOwogICAgICAgICAgICBwb3B1cF81NGI4YWNjYzFhYWU0YTc4YTNmOGFmZWM5OTI3MGZkMy5zZXRDb250ZW50KGh0bWxfZWU2ODBjMmE4YjcwNDFmNTg5NWUzNDk0NDI5NDdjYzUpOwogICAgICAgIAoKICAgICAgICBjaXJjbGVfbWFya2VyXzE3Zjg5MjgyZGRlZTQ4ODViMTEwNjMzZmJjZjczZDFiLmJpbmRQb3B1cChwb3B1cF81NGI4YWNjYzFhYWU0YTc4YTNmOGFmZWM5OTI3MGZkMykKICAgICAgICA7CgogICAgICAgIAogICAgCiAgICAKICAgICAgICAgICAgdmFyIGNpcmNsZV9tYXJrZXJfMTViNDBiYjBjODdlNGQzZjhjMTg3NzlmNTMwNjdjMDggPSBMLmNpcmNsZU1hcmtlcigKICAgICAgICAgICAgICAgIFs0My42NTE1NzA2LCAtNzkuNDg0NDQ5OV0sCiAgICAgICAgICAgICAgICB7ImJ1YmJsaW5nTW91c2VFdmVudHMiOiB0cnVlLCAiY29sb3IiOiAiYmx1ZSIsICJkYXNoQXJyYXkiOiBudWxsLCAiZGFzaE9mZnNldCI6IG51bGwsICJmaWxsIjogdHJ1ZSwgImZpbGxDb2xvciI6ICIjMzE4NmNjIiwgImZpbGxPcGFjaXR5IjogMC43LCAiZmlsbFJ1bGUiOiAiZXZlbm9kZCIsICJsaW5lQ2FwIjogInJvdW5kIiwgImxpbmVKb2luIjogInJvdW5kIiwgIm9wYWNpdHkiOiAxLjAsICJyYWRpdXMiOiA1LCAic3Ryb2tlIjogdHJ1ZSwgIndlaWdodCI6IDN9CiAgICAgICAgICAgICkuYWRkVG8obWFwXzE2MzMxYzM5OWVhZjQ5Y2ZiODY2NzFhNmVlNWY5YTgzKTsKICAgICAgICAKICAgIAogICAgICAgIHZhciBwb3B1cF8xZTE1MDAyNjkwMTk0MGI0OWU5NTRhNzNkOTdkNWUzZiA9IEwucG9wdXAoeyJtYXhXaWR0aCI6ICIxMDAlIn0pOwoKICAgICAgICAKICAgICAgICAgICAgdmFyIGh0bWxfNGE4YmM1YjgzMjc2NGYwM2EwOWE2NDRmN2MyNjA4YjAgPSAkKGA8ZGl2IGlkPSJodG1sXzRhOGJjNWI4MzI3NjRmMDNhMDlhNjQ0ZjdjMjYwOGIwIiBzdHlsZT0id2lkdGg6IDEwMC4wJTsgaGVpZ2h0OiAxMDAuMCU7Ij5SdW5ueW1lZGUsU3dhbnNlYSwgV2VzdCBUb3JvbnRvPC9kaXY+YClbMF07CiAgICAgICAgICAgIHBvcHVwXzFlMTUwMDI2OTAxOTQwYjQ5ZTk1NGE3M2Q5N2Q1ZTNmLnNldENvbnRlbnQoaHRtbF80YThiYzViODMyNzY0ZjAzYTA5YTY0NGY3YzI2MDhiMCk7CiAgICAgICAgCgogICAgICAgIGNpcmNsZV9tYXJrZXJfMTViNDBiYjBjODdlNGQzZjhjMTg3NzlmNTMwNjdjMDguYmluZFBvcHVwKHBvcHVwXzFlMTUwMDI2OTAxOTQwYjQ5ZTk1NGE3M2Q5N2Q1ZTNmKQogICAgICAgIDsKCiAgICAgICAgCiAgICAKICAgIAogICAgICAgICAgICB2YXIgY2lyY2xlX21hcmtlcl9lMDYwM2UxYjY5ODU0ZjRjODRmYjk1ZjRiNWU4NjE4ZiA9IEwuY2lyY2xlTWFya2VyKAogICAgICAgICAgICAgICAgWzQzLjY4OTU3NDMsIC03OS4zODMxNTk5MDAwMDAwMV0sCiAgICAgICAgICAgICAgICB7ImJ1YmJsaW5nTW91c2VFdmVudHMiOiB0cnVlLCAiY29sb3IiOiAiYmx1ZSIsICJkYXNoQXJyYXkiOiBudWxsLCAiZGFzaE9mZnNldCI6IG51bGwsICJmaWxsIjogdHJ1ZSwgImZpbGxDb2xvciI6ICIjMzE4NmNjIiwgImZpbGxPcGFjaXR5IjogMC43LCAiZmlsbFJ1bGUiOiAiZXZlbm9kZCIsICJsaW5lQ2FwIjogInJvdW5kIiwgImxpbmVKb2luIjogInJvdW5kIiwgIm9wYWNpdHkiOiAxLjAsICJyYWRpdXMiOiA1LCAic3Ryb2tlIjogdHJ1ZSwgIndlaWdodCI6IDN9CiAgICAgICAgICAgICkuYWRkVG8obWFwXzE2MzMxYzM5OWVhZjQ5Y2ZiODY2NzFhNmVlNWY5YTgzKTsKICAgICAgICAKICAgIAogICAgICAgIHZhciBwb3B1cF9kOGZjNmI0YjUyMzU0NTYyOGQ0NjY0MDQzMzk3ZTk2MyA9IEwucG9wdXAoeyJtYXhXaWR0aCI6ICIxMDAlIn0pOwoKICAgICAgICAKICAgICAgICAgICAgdmFyIGh0bWxfOTliYTFmMjdiMzcyNDEwNDhkMWU5ODdkZjEyOTNlYTEgPSAkKGA8ZGl2IGlkPSJodG1sXzk5YmExZjI3YjM3MjQxMDQ4ZDFlOTg3ZGYxMjkzZWExIiBzdHlsZT0id2lkdGg6IDEwMC4wJTsgaGVpZ2h0OiAxMDAuMCU7Ij5Nb29yZSBQYXJrLFN1bW1lcmhpbGwgRWFzdCwgQ2VudHJhbCBUb3JvbnRvPC9kaXY+YClbMF07CiAgICAgICAgICAgIHBvcHVwX2Q4ZmM2YjRiNTIzNTQ1NjI4ZDQ2NjQwNDMzOTdlOTYzLnNldENvbnRlbnQoaHRtbF85OWJhMWYyN2IzNzI0MTA0OGQxZTk4N2RmMTI5M2VhMSk7CiAgICAgICAgCgogICAgICAgIGNpcmNsZV9tYXJrZXJfZTA2MDNlMWI2OTg1NGY0Yzg0ZmI5NWY0YjVlODYxOGYuYmluZFBvcHVwKHBvcHVwX2Q4ZmM2YjRiNTIzNTQ1NjI4ZDQ2NjQwNDMzOTdlOTYzKQogICAgICAgIDsKCiAgICAgICAgCiAgICAKICAgIAogICAgICAgICAgICB2YXIgY2lyY2xlX21hcmtlcl9lNGVkZTEzY2NjYzE0NmQwYWY3NTliMmJlNzhjM2ZiZSA9IEwuY2lyY2xlTWFya2VyKAogICAgICAgICAgICAgICAgWzQzLjY1MzIwNTcsIC03OS40MDAwNDkzXSwKICAgICAgICAgICAgICAgIHsiYnViYmxpbmdNb3VzZUV2ZW50cyI6IHRydWUsICJjb2xvciI6ICJibHVlIiwgImRhc2hBcnJheSI6IG51bGwsICJkYXNoT2Zmc2V0IjogbnVsbCwgImZpbGwiOiB0cnVlLCAiZmlsbENvbG9yIjogIiMzMTg2Y2MiLCAiZmlsbE9wYWNpdHkiOiAwLjcsICJmaWxsUnVsZSI6ICJldmVub2RkIiwgImxpbmVDYXAiOiAicm91bmQiLCAibGluZUpvaW4iOiAicm91bmQiLCAib3BhY2l0eSI6IDEuMCwgInJhZGl1cyI6IDUsICJzdHJva2UiOiB0cnVlLCAid2VpZ2h0IjogM30KICAgICAgICAgICAgKS5hZGRUbyhtYXBfMTYzMzFjMzk5ZWFmNDljZmI4NjY3MWE2ZWU1ZjlhODMpOwogICAgICAgIAogICAgCiAgICAgICAgdmFyIHBvcHVwXzM1MjNlMThkYmUyZDRjNzA4YTIyYmE2YWQyNGRiMTMxID0gTC5wb3B1cCh7Im1heFdpZHRoIjogIjEwMCUifSk7CgogICAgICAgIAogICAgICAgICAgICB2YXIgaHRtbF9iNThmN2I4OTIzMmQ0Y2IwYTdkYTZjOTA4ZThmZjA0ZSA9ICQoYDxkaXYgaWQ9Imh0bWxfYjU4ZjdiODkyMzJkNGNiMGE3ZGE2YzkwOGU4ZmYwNGUiIHN0eWxlPSJ3aWR0aDogMTAwLjAlOyBoZWlnaHQ6IDEwMC4wJTsiPkNoaW5hdG93bixHcmFuZ2UgUGFyayxLZW5zaW5ndG9uIE1hcmtldCwgRG93bnRvd24gVG9yb250bzwvZGl2PmApWzBdOwogICAgICAgICAgICBwb3B1cF8zNTIzZTE4ZGJlMmQ0YzcwOGEyMmJhNmFkMjRkYjEzMS5zZXRDb250ZW50KGh0bWxfYjU4ZjdiODkyMzJkNGNiMGE3ZGE2YzkwOGU4ZmYwNGUpOwogICAgICAgIAoKICAgICAgICBjaXJjbGVfbWFya2VyX2U0ZWRlMTNjY2NjMTQ2ZDBhZjc1OWIyYmU3OGMzZmJlLmJpbmRQb3B1cChwb3B1cF8zNTIzZTE4ZGJlMmQ0YzcwOGEyMmJhNmFkMjRkYjEzMSkKICAgICAgICA7CgogICAgICAgIAogICAgCiAgICAKICAgICAgICAgICAgdmFyIGNpcmNsZV9tYXJrZXJfM2I4OTdlNjhlMmNhNDlhMTliYjc1MWEyNGU2NmI3MjUgPSBMLmNpcmNsZU1hcmtlcigKICAgICAgICAgICAgICAgIFs0My42ODY0MTIyOTk5OTk5OSwgLTc5LjQwMDA0OTNdLAogICAgICAgICAgICAgICAgeyJidWJibGluZ01vdXNlRXZlbnRzIjogdHJ1ZSwgImNvbG9yIjogImJsdWUiLCAiZGFzaEFycmF5IjogbnVsbCwgImRhc2hPZmZzZXQiOiBudWxsLCAiZmlsbCI6IHRydWUsICJmaWxsQ29sb3IiOiAiIzMxODZjYyIsICJmaWxsT3BhY2l0eSI6IDAuNywgImZpbGxSdWxlIjogImV2ZW5vZGQiLCAibGluZUNhcCI6ICJyb3VuZCIsICJsaW5lSm9pbiI6ICJyb3VuZCIsICJvcGFjaXR5IjogMS4wLCAicmFkaXVzIjogNSwgInN0cm9rZSI6IHRydWUsICJ3ZWlnaHQiOiAzfQogICAgICAgICAgICApLmFkZFRvKG1hcF8xNjMzMWMzOTllYWY0OWNmYjg2NjcxYTZlZTVmOWE4Myk7CiAgICAgICAgCiAgICAKICAgICAgICB2YXIgcG9wdXBfNDQxOTczNjE4ODlmNDcyNTk0OWQ2YjdkODM0ZjcwZmEgPSBMLnBvcHVwKHsibWF4V2lkdGgiOiAiMTAwJSJ9KTsKCiAgICAgICAgCiAgICAgICAgICAgIHZhciBodG1sX2QxZjBmMjg2ZjRmMzQ1M2U4ZWRlYTlmZDFjZjViYmMwID0gJChgPGRpdiBpZD0iaHRtbF9kMWYwZjI4NmY0ZjM0NTNlOGVkZWE5ZmQxY2Y1YmJjMCIgc3R5bGU9IndpZHRoOiAxMDAuMCU7IGhlaWdodDogMTAwLjAlOyI+RGVlciBQYXJrLEZvcmVzdCBIaWxsIFNFLFJhdGhuZWxseSxTb3V0aCBIaWxsLFN1bW1lcmhpbGwgV2VzdCwgQ2VudHJhbCBUb3JvbnRvPC9kaXY+YClbMF07CiAgICAgICAgICAgIHBvcHVwXzQ0MTk3MzYxODg5ZjQ3MjU5NDlkNmI3ZDgzNGY3MGZhLnNldENvbnRlbnQoaHRtbF9kMWYwZjI4NmY0ZjM0NTNlOGVkZWE5ZmQxY2Y1YmJjMCk7CiAgICAgICAgCgogICAgICAgIGNpcmNsZV9tYXJrZXJfM2I4OTdlNjhlMmNhNDlhMTliYjc1MWEyNGU2NmI3MjUuYmluZFBvcHVwKHBvcHVwXzQ0MTk3MzYxODg5ZjQ3MjU5NDlkNmI3ZDgzNGY3MGZhKQogICAgICAgIDsKCiAgICAgICAgCiAgICAKICAgIAogICAgICAgICAgICB2YXIgY2lyY2xlX21hcmtlcl81MDkzNjVmYTZjNDA0ZTdkYjliNDRlOGU1OGFlOTU1ZSA9IEwuY2lyY2xlTWFya2VyKAogICAgICAgICAgICAgICAgWzQzLjYyODk0NjcsIC03OS4zOTQ0MTk5XSwKICAgICAgICAgICAgICAgIHsiYnViYmxpbmdNb3VzZUV2ZW50cyI6IHRydWUsICJjb2xvciI6ICJibHVlIiwgImRhc2hBcnJheSI6IG51bGwsICJkYXNoT2Zmc2V0IjogbnVsbCwgImZpbGwiOiB0cnVlLCAiZmlsbENvbG9yIjogIiMzMTg2Y2MiLCAiZmlsbE9wYWNpdHkiOiAwLjcsICJmaWxsUnVsZSI6ICJldmVub2RkIiwgImxpbmVDYXAiOiAicm91bmQiLCAibGluZUpvaW4iOiAicm91bmQiLCAib3BhY2l0eSI6IDEuMCwgInJhZGl1cyI6IDUsICJzdHJva2UiOiB0cnVlLCAid2VpZ2h0IjogM30KICAgICAgICAgICAgKS5hZGRUbyhtYXBfMTYzMzFjMzk5ZWFmNDljZmI4NjY3MWE2ZWU1ZjlhODMpOwogICAgICAgIAogICAgCiAgICAgICAgdmFyIHBvcHVwX2M1NWEwOWZmOTRiYzQ3ZWNiMjAzNGVjYTk0Y2M3OTFiID0gTC5wb3B1cCh7Im1heFdpZHRoIjogIjEwMCUifSk7CgogICAgICAgIAogICAgICAgICAgICB2YXIgaHRtbF81YmM3OTUzYWQ3Yzg0Zjk3YTM5YTQzMTJjODc3NzQxZCA9ICQoYDxkaXYgaWQ9Imh0bWxfNWJjNzk1M2FkN2M4NGY5N2EzOWE0MzEyYzg3Nzc0MWQiIHN0eWxlPSJ3aWR0aDogMTAwLjAlOyBoZWlnaHQ6IDEwMC4wJTsiPkNOIFRvd2VyLEJhdGh1cnN0IFF1YXksSXNsYW5kIGFpcnBvcnQsSGFyYm91cmZyb250IFdlc3QsS2luZyBhbmQgU3BhZGluYSxSYWlsd2F5IExhbmRzLFNvdXRoIE5pYWdhcmEsIERvd250b3duIFRvcm9udG88L2Rpdj5gKVswXTsKICAgICAgICAgICAgcG9wdXBfYzU1YTA5ZmY5NGJjNDdlY2IyMDM0ZWNhOTRjYzc5MWIuc2V0Q29udGVudChodG1sXzViYzc5NTNhZDdjODRmOTdhMzlhNDMxMmM4Nzc3NDFkKTsKICAgICAgICAKCiAgICAgICAgY2lyY2xlX21hcmtlcl81MDkzNjVmYTZjNDA0ZTdkYjliNDRlOGU1OGFlOTU1ZS5iaW5kUG9wdXAocG9wdXBfYzU1YTA5ZmY5NGJjNDdlY2IyMDM0ZWNhOTRjYzc5MWIpCiAgICAgICAgOwoKICAgICAgICAKICAgIAogICAgCiAgICAgICAgICAgIHZhciBjaXJjbGVfbWFya2VyXzRlOGVhOTcxZDg2MzQ5YzBiY2UyZjhjMGZhOTc3NjYzID0gTC5jaXJjbGVNYXJrZXIoCiAgICAgICAgICAgICAgICBbNDMuNjc5NTYyNiwgLTc5LjM3NzUyOTQwMDAwMDAxXSwKICAgICAgICAgICAgICAgIHsiYnViYmxpbmdNb3VzZUV2ZW50cyI6IHRydWUsICJjb2xvciI6ICJibHVlIiwgImRhc2hBcnJheSI6IG51bGwsICJkYXNoT2Zmc2V0IjogbnVsbCwgImZpbGwiOiB0cnVlLCAiZmlsbENvbG9yIjogIiMzMTg2Y2MiLCAiZmlsbE9wYWNpdHkiOiAwLjcsICJmaWxsUnVsZSI6ICJldmVub2RkIiwgImxpbmVDYXAiOiAicm91bmQiLCAibGluZUpvaW4iOiAicm91bmQiLCAib3BhY2l0eSI6IDEuMCwgInJhZGl1cyI6IDUsICJzdHJva2UiOiB0cnVlLCAid2VpZ2h0IjogM30KICAgICAgICAgICAgKS5hZGRUbyhtYXBfMTYzMzFjMzk5ZWFmNDljZmI4NjY3MWE2ZWU1ZjlhODMpOwogICAgICAgIAogICAgCiAgICAgICAgdmFyIHBvcHVwXzBkNDFmZmQ5OWQ0YjQwYTc5OTVmOGE0MmU5NGMwNmRhID0gTC5wb3B1cCh7Im1heFdpZHRoIjogIjEwMCUifSk7CgogICAgICAgIAogICAgICAgICAgICB2YXIgaHRtbF83MDk1NzM1NzRkMGU0ZjFkOTU0ZDYxNmFkOTcyOGRhMiA9ICQoYDxkaXYgaWQ9Imh0bWxfNzA5NTczNTc0ZDBlNGYxZDk1NGQ2MTZhZDk3MjhkYTIiIHN0eWxlPSJ3aWR0aDogMTAwLjAlOyBoZWlnaHQ6IDEwMC4wJTsiPlJvc2VkYWxlLCBEb3dudG93biBUb3JvbnRvPC9kaXY+YClbMF07CiAgICAgICAgICAgIHBvcHVwXzBkNDFmZmQ5OWQ0YjQwYTc5OTVmOGE0MmU5NGMwNmRhLnNldENvbnRlbnQoaHRtbF83MDk1NzM1NzRkMGU0ZjFkOTU0ZDYxNmFkOTcyOGRhMik7CiAgICAgICAgCgogICAgICAgIGNpcmNsZV9tYXJrZXJfNGU4ZWE5NzFkODYzNDljMGJjZTJmOGMwZmE5Nzc2NjMuYmluZFBvcHVwKHBvcHVwXzBkNDFmZmQ5OWQ0YjQwYTc5OTVmOGE0MmU5NGMwNmRhKQogICAgICAgIDsKCiAgICAgICAgCiAgICAKICAgIAogICAgICAgICAgICB2YXIgY2lyY2xlX21hcmtlcl80NzY1MGJjN2ZiMDg0OGI2OGU0Y2UzYzg5NWYyYjUzMSA9IEwuY2lyY2xlTWFya2VyKAogICAgICAgICAgICAgICAgWzQzLjY0NjQzNTIsIC03OS4zNzQ4NDU5OTk5OTk5OV0sCiAgICAgICAgICAgICAgICB7ImJ1YmJsaW5nTW91c2VFdmVudHMiOiB0cnVlLCAiY29sb3IiOiAiYmx1ZSIsICJkYXNoQXJyYXkiOiBudWxsLCAiZGFzaE9mZnNldCI6IG51bGwsICJmaWxsIjogdHJ1ZSwgImZpbGxDb2xvciI6ICIjMzE4NmNjIiwgImZpbGxPcGFjaXR5IjogMC43LCAiZmlsbFJ1bGUiOiAiZXZlbm9kZCIsICJsaW5lQ2FwIjogInJvdW5kIiwgImxpbmVKb2luIjogInJvdW5kIiwgIm9wYWNpdHkiOiAxLjAsICJyYWRpdXMiOiA1LCAic3Ryb2tlIjogdHJ1ZSwgIndlaWdodCI6IDN9CiAgICAgICAgICAgICkuYWRkVG8obWFwXzE2MzMxYzM5OWVhZjQ5Y2ZiODY2NzFhNmVlNWY5YTgzKTsKICAgICAgICAKICAgIAogICAgICAgIHZhciBwb3B1cF8xNzlhM2VmYTdmNTc0MjlkODUwNWJjMmEyMTJiZDkxZSA9IEwucG9wdXAoeyJtYXhXaWR0aCI6ICIxMDAlIn0pOwoKICAgICAgICAKICAgICAgICAgICAgdmFyIGh0bWxfZWExNzM5ZDQyNDg5NGRiMGE3ZTZkY2U3NjZmMGM3MDAgPSAkKGA8ZGl2IGlkPSJodG1sX2VhMTczOWQ0MjQ4OTRkYjBhN2U2ZGNlNzY2ZjBjNzAwIiBzdHlsZT0id2lkdGg6IDEwMC4wJTsgaGVpZ2h0OiAxMDAuMCU7Ij5TdG4gQSBQTyBCb3hlcyAyNSBUaGUgRXNwbGFuYWRlLCBEb3dudG93biBUb3JvbnRvPC9kaXY+YClbMF07CiAgICAgICAgICAgIHBvcHVwXzE3OWEzZWZhN2Y1NzQyOWQ4NTA1YmMyYTIxMmJkOTFlLnNldENvbnRlbnQoaHRtbF9lYTE3MzlkNDI0ODk0ZGIwYTdlNmRjZTc2NmYwYzcwMCk7CiAgICAgICAgCgogICAgICAgIGNpcmNsZV9tYXJrZXJfNDc2NTBiYzdmYjA4NDhiNjhlNGNlM2M4OTVmMmI1MzEuYmluZFBvcHVwKHBvcHVwXzE3OWEzZWZhN2Y1NzQyOWQ4NTA1YmMyYTIxMmJkOTFlKQogICAgICAgIDsKCiAgICAgICAgCiAgICAKICAgIAogICAgICAgICAgICB2YXIgY2lyY2xlX21hcmtlcl81YTg2ZWI5YTFiZGE0ODRhYjY0Mzg1MzU4NTVjZjY1OSA9IEwuY2lyY2xlTWFya2VyKAogICAgICAgICAgICAgICAgWzQzLjY2Nzk2NywgLTc5LjM2NzY3NTNdLAogICAgICAgICAgICAgICAgeyJidWJibGluZ01vdXNlRXZlbnRzIjogdHJ1ZSwgImNvbG9yIjogImJsdWUiLCAiZGFzaEFycmF5IjogbnVsbCwgImRhc2hPZmZzZXQiOiBudWxsLCAiZmlsbCI6IHRydWUsICJmaWxsQ29sb3IiOiAiIzMxODZjYyIsICJmaWxsT3BhY2l0eSI6IDAuNywgImZpbGxSdWxlIjogImV2ZW5vZGQiLCAibGluZUNhcCI6ICJyb3VuZCIsICJsaW5lSm9pbiI6ICJyb3VuZCIsICJvcGFjaXR5IjogMS4wLCAicmFkaXVzIjogNSwgInN0cm9rZSI6IHRydWUsICJ3ZWlnaHQiOiAzfQogICAgICAgICAgICApLmFkZFRvKG1hcF8xNjMzMWMzOTllYWY0OWNmYjg2NjcxYTZlZTVmOWE4Myk7CiAgICAgICAgCiAgICAKICAgICAgICB2YXIgcG9wdXBfZDlkMzA5NzQxMzlmNGRhOTk3Y2M2NTk1YTFiYTg2MzQgPSBMLnBvcHVwKHsibWF4V2lkdGgiOiAiMTAwJSJ9KTsKCiAgICAgICAgCiAgICAgICAgICAgIHZhciBodG1sX2NhOThmZWEzN2UwNTRmMTRhNDhmNTNjZWRjZjkzYjZmID0gJChgPGRpdiBpZD0iaHRtbF9jYTk4ZmVhMzdlMDU0ZjE0YTQ4ZjUzY2VkY2Y5M2I2ZiIgc3R5bGU9IndpZHRoOiAxMDAuMCU7IGhlaWdodDogMTAwLjAlOyI+Q2FiYmFnZXRvd24sU3QuIEphbWVzIFRvd24sIERvd250b3duIFRvcm9udG88L2Rpdj5gKVswXTsKICAgICAgICAgICAgcG9wdXBfZDlkMzA5NzQxMzlmNGRhOTk3Y2M2NTk1YTFiYTg2MzQuc2V0Q29udGVudChodG1sX2NhOThmZWEzN2UwNTRmMTRhNDhmNTNjZWRjZjkzYjZmKTsKICAgICAgICAKCiAgICAgICAgY2lyY2xlX21hcmtlcl81YTg2ZWI5YTFiZGE0ODRhYjY0Mzg1MzU4NTVjZjY1OS5iaW5kUG9wdXAocG9wdXBfZDlkMzA5NzQxMzlmNGRhOTk3Y2M2NTk1YTFiYTg2MzQpCiAgICAgICAgOwoKICAgICAgICAKICAgIAogICAgCiAgICAgICAgICAgIHZhciBjaXJjbGVfbWFya2VyXzU2MjQxMzQ5NTlhODQzODc4NjQxNzk2YTk4YzQyNzg2ID0gTC5jaXJjbGVNYXJrZXIoCiAgICAgICAgICAgICAgICBbNDMuNjQ4NDI5MiwgLTc5LjM4MjI4MDJdLAogICAgICAgICAgICAgICAgeyJidWJibGluZ01vdXNlRXZlbnRzIjogdHJ1ZSwgImNvbG9yIjogImJsdWUiLCAiZGFzaEFycmF5IjogbnVsbCwgImRhc2hPZmZzZXQiOiBudWxsLCAiZmlsbCI6IHRydWUsICJmaWxsQ29sb3IiOiAiIzMxODZjYyIsICJmaWxsT3BhY2l0eSI6IDAuNywgImZpbGxSdWxlIjogImV2ZW5vZGQiLCAibGluZUNhcCI6ICJyb3VuZCIsICJsaW5lSm9pbiI6ICJyb3VuZCIsICJvcGFjaXR5IjogMS4wLCAicmFkaXVzIjogNSwgInN0cm9rZSI6IHRydWUsICJ3ZWlnaHQiOiAzfQogICAgICAgICAgICApLmFkZFRvKG1hcF8xNjMzMWMzOTllYWY0OWNmYjg2NjcxYTZlZTVmOWE4Myk7CiAgICAgICAgCiAgICAKICAgICAgICB2YXIgcG9wdXBfZjk1Zjk5M2NhN2Q0NDk1MmI1NGJiOTE1YmMwYmVmZDAgPSBMLnBvcHVwKHsibWF4V2lkdGgiOiAiMTAwJSJ9KTsKCiAgICAgICAgCiAgICAgICAgICAgIHZhciBodG1sXzBmZjkwMmMzY2VlMTQ5MjY5ZDc3NDQ3NTUxMTI2NGJiID0gJChgPGRpdiBpZD0iaHRtbF8wZmY5MDJjM2NlZTE0OTI2OWQ3NzQ0NzU1MTEyNjRiYiIgc3R5bGU9IndpZHRoOiAxMDAuMCU7IGhlaWdodDogMTAwLjAlOyI+Rmlyc3QgQ2FuYWRpYW4gUGxhY2UsVW5kZXJncm91bmQgY2l0eSwgRG93bnRvd24gVG9yb250bzwvZGl2PmApWzBdOwogICAgICAgICAgICBwb3B1cF9mOTVmOTkzY2E3ZDQ0OTUyYjU0YmI5MTViYzBiZWZkMC5zZXRDb250ZW50KGh0bWxfMGZmOTAyYzNjZWUxNDkyNjlkNzc0NDc1NTExMjY0YmIpOwogICAgICAgIAoKICAgICAgICBjaXJjbGVfbWFya2VyXzU2MjQxMzQ5NTlhODQzODc4NjQxNzk2YTk4YzQyNzg2LmJpbmRQb3B1cChwb3B1cF9mOTVmOTkzY2E3ZDQ0OTUyYjU0YmI5MTViYzBiZWZkMCkKICAgICAgICA7CgogICAgICAgIAogICAgCiAgICAKICAgICAgICAgICAgdmFyIGNpcmNsZV9tYXJrZXJfYzNlYzMwNjdjYWFlNDhlMmEyODk1OGM0NDQzMWU2YzcgPSBMLmNpcmNsZU1hcmtlcigKICAgICAgICAgICAgICAgIFs0My42NjU4NTk5LCAtNzkuMzgzMTU5OTAwMDAwMDFdLAogICAgICAgICAgICAgICAgeyJidWJibGluZ01vdXNlRXZlbnRzIjogdHJ1ZSwgImNvbG9yIjogImJsdWUiLCAiZGFzaEFycmF5IjogbnVsbCwgImRhc2hPZmZzZXQiOiBudWxsLCAiZmlsbCI6IHRydWUsICJmaWxsQ29sb3IiOiAiIzMxODZjYyIsICJmaWxsT3BhY2l0eSI6IDAuNywgImZpbGxSdWxlIjogImV2ZW5vZGQiLCAibGluZUNhcCI6ICJyb3VuZCIsICJsaW5lSm9pbiI6ICJyb3VuZCIsICJvcGFjaXR5IjogMS4wLCAicmFkaXVzIjogNSwgInN0cm9rZSI6IHRydWUsICJ3ZWlnaHQiOiAzfQogICAgICAgICAgICApLmFkZFRvKG1hcF8xNjMzMWMzOTllYWY0OWNmYjg2NjcxYTZlZTVmOWE4Myk7CiAgICAgICAgCiAgICAKICAgICAgICB2YXIgcG9wdXBfZGZlZmMxMmUzNzgwNDg1Y2I1NWU3MGUyNzZmMjMyZjYgPSBMLnBvcHVwKHsibWF4V2lkdGgiOiAiMTAwJSJ9KTsKCiAgICAgICAgCiAgICAgICAgICAgIHZhciBodG1sX2Q4NTYzOTFhMzM5NDRjNzA5NzRmMDQyMTYwYjdlYjJjID0gJChgPGRpdiBpZD0iaHRtbF9kODU2MzkxYTMzOTQ0YzcwOTc0ZjA0MjE2MGI3ZWIyYyIgc3R5bGU9IndpZHRoOiAxMDAuMCU7IGhlaWdodDogMTAwLjAlOyI+Q2h1cmNoIGFuZCBXZWxsZXNsZXksIERvd250b3duIFRvcm9udG88L2Rpdj5gKVswXTsKICAgICAgICAgICAgcG9wdXBfZGZlZmMxMmUzNzgwNDg1Y2I1NWU3MGUyNzZmMjMyZjYuc2V0Q29udGVudChodG1sX2Q4NTYzOTFhMzM5NDRjNzA5NzRmMDQyMTYwYjdlYjJjKTsKICAgICAgICAKCiAgICAgICAgY2lyY2xlX21hcmtlcl9jM2VjMzA2N2NhYWU0OGUyYTI4OTU4YzQ0NDMxZTZjNy5iaW5kUG9wdXAocG9wdXBfZGZlZmMxMmUzNzgwNDg1Y2I1NWU3MGUyNzZmMjMyZjYpCiAgICAgICAgOwoKICAgICAgICAKICAgIAogICAgCiAgICAgICAgICAgIHZhciBjaXJjbGVfbWFya2VyXzJmODNmZjVkMTMyOTQxYjg4YzQ3YmVlZDM1MWE4NDdmID0gTC5jaXJjbGVNYXJrZXIoCiAgICAgICAgICAgICAgICBbNDMuNjYyNzQzOSwgLTc5LjMyMTU1OF0sCiAgICAgICAgICAgICAgICB7ImJ1YmJsaW5nTW91c2VFdmVudHMiOiB0cnVlLCAiY29sb3IiOiAiYmx1ZSIsICJkYXNoQXJyYXkiOiBudWxsLCAiZGFzaE9mZnNldCI6IG51bGwsICJmaWxsIjogdHJ1ZSwgImZpbGxDb2xvciI6ICIjMzE4NmNjIiwgImZpbGxPcGFjaXR5IjogMC43LCAiZmlsbFJ1bGUiOiAiZXZlbm9kZCIsICJsaW5lQ2FwIjogInJvdW5kIiwgImxpbmVKb2luIjogInJvdW5kIiwgIm9wYWNpdHkiOiAxLjAsICJyYWRpdXMiOiA1LCAic3Ryb2tlIjogdHJ1ZSwgIndlaWdodCI6IDN9CiAgICAgICAgICAgICkuYWRkVG8obWFwXzE2MzMxYzM5OWVhZjQ5Y2ZiODY2NzFhNmVlNWY5YTgzKTsKICAgICAgICAKICAgIAogICAgICAgIHZhciBwb3B1cF80ZGMxODQ3NTM4MTk0OTQyOWE0ODM0YjU2ZDQ3OTI5ZCA9IEwucG9wdXAoeyJtYXhXaWR0aCI6ICIxMDAlIn0pOwoKICAgICAgICAKICAgICAgICAgICAgdmFyIGh0bWxfZDNlNzRiNzY3N2Y3NDZlM2ExZTdhYTNhZDQyMzEzMmUgPSAkKGA8ZGl2IGlkPSJodG1sX2QzZTc0Yjc2NzdmNzQ2ZTNhMWU3YWEzYWQ0MjMxMzJlIiBzdHlsZT0id2lkdGg6IDEwMC4wJTsgaGVpZ2h0OiAxMDAuMCU7Ij5CdXNpbmVzcyBSZXBseSBNYWlsIFByb2Nlc3NpbmcgQ2VudHJlIDk2OSBFYXN0ZXJuLCBFYXN0IFRvcm9udG88L2Rpdj5gKVswXTsKICAgICAgICAgICAgcG9wdXBfNGRjMTg0NzUzODE5NDk0MjlhNDgzNGI1NmQ0NzkyOWQuc2V0Q29udGVudChodG1sX2QzZTc0Yjc2NzdmNzQ2ZTNhMWU3YWEzYWQ0MjMxMzJlKTsKICAgICAgICAKCiAgICAgICAgY2lyY2xlX21hcmtlcl8yZjgzZmY1ZDEzMjk0MWI4OGM0N2JlZWQzNTFhODQ3Zi5iaW5kUG9wdXAocG9wdXBfNGRjMTg0NzUzODE5NDk0MjlhNDgzNGI1NmQ0NzkyOWQpCiAgICAgICAgOwoKICAgICAgICAKICAgIAo8L3NjcmlwdD4=\" style=\"position:absolute;width:100%;height:100%;left:0;top:0;border:none !important;\" allowfullscreen webkitallowfullscreen mozallowfullscreen></iframe></div></div>"
      ],
      "text/plain": [
       "<folium.folium.Map at 0x227d0138978>"
      ]
     },
     "execution_count": 32,
     "metadata": {},
     "output_type": "execute_result"
    }
   ],
   "source": [
    "address = 'Toronto'\n",
    "geolocator = Nominatim(user_agent=\"Toronto_explorer\")\n",
    "location = geolocator.geocode(address)\n",
    "latitude = location.latitude\n",
    "longitude = location.longitude\n",
    "\n",
    "Toronto_map = folium.Map(location=[latitude, longitude], zoom_start=10)\n",
    "\n",
    "for lat, lng, borough, neighborhood in zip(df2['Latitude'], df2['Longitude'], \n",
    "                                           df2['Borough'], df2['Neighborhood']):\n",
    "    label = '{}, {}'.format(neighborhood, borough)\n",
    "    label = folium.Popup(label, parse_html=True)\n",
    "    folium.CircleMarker(\n",
    "        [lat, lng],\n",
    "        radius=5,\n",
    "        popup=label,\n",
    "        color='blue',\n",
    "        fill=True,\n",
    "        fill_color='#3186cc',\n",
    "        fill_opacity=0.7,\n",
    "        parse_html=False).add_to(Toronto_map)  \n",
    "    \n",
    "Toronto_map\n",
    "\n"
   ]
  }
 ],
 "metadata": {
  "kernelspec": {
   "display_name": "Python 3",
   "language": "python",
   "name": "python3"
  },
  "language_info": {
   "codemirror_mode": {
    "name": "ipython",
    "version": 3
   },
   "file_extension": ".py",
   "mimetype": "text/x-python",
   "name": "python",
   "nbconvert_exporter": "python",
   "pygments_lexer": "ipython3",
   "version": "3.6.6"
  },
  "pycharm": {
   "stem_cell": {
    "cell_type": "raw",
    "metadata": {
     "collapsed": false
    },
    "source": []
   }
  }
 },
 "nbformat": 4,
 "nbformat_minor": 1
}
